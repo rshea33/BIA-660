{
 "cells": [
  {
   "cell_type": "markdown",
   "metadata": {},
   "source": [
    "# Homework 0: apply for a Twitter developer account"
   ]
  },
  {
   "cell_type": "markdown",
   "metadata": {},
   "source": [
    "This is a small assignment that prepares you for data retrieval in the coming weeks. Please apply for a Twitter developer account here https://developer.twitter.com/en/support/twitter-api/developer-account.  When you have the account information, you may run the following codes to generate a document. You may remove the accoount information when uploading the assignment. "
   ]
  },
  {
   "cell_type": "code",
   "execution_count": 5,
   "metadata": {},
   "outputs": [],
   "source": [
    "import tweepy\n",
    "import csv\n",
    "\n",
    "# https://docs.tweepy.org/en/stable/auth_tutorial.html\n",
    "\n",
    "\n",
    "CONSUMER_KEY=''\n",
    "CONSUMER_SECRET=''\n",
    "ACCESS_KEY=''\n",
    "ACCESS_SECRET=''\n",
    "\n",
    "\n",
    "auth=tweepy.OAuthHandler(CONSUMER_KEY,CONSUMER_SECRET)\n",
    "auth.set_access_token(ACCESS_KEY,ACCESS_SECRET)\n",
    "api=tweepy.API(auth)\n",
    "\n",
    "\n",
    "def get_all_tweets(user_name):\n",
    "    \n",
    "    alltweets=[]\n",
    "    new_tweets=api.user_timeline(user_name, count=200)\n",
    "    # since my account is old, there may be syntax difference, here you may need screen_name=user_name\n",
    "    alltweets.extend(new_tweets)\n",
    "    \n",
    "    outtweets = [[tweet.id_str, tweet.user.name, tweet.created_at, \n",
    "                  tweet.text.encode(\"utf-8\")] for tweet in alltweets]\n",
    "            \n",
    "    with open('%s_tweet.csv' % user_name,'w') as outputfile: \n",
    "        writer=csv.writer(outputfile)\n",
    "        writer.writerow([\"id\",\"user_name\",\"created_at\",\"text\"])\n",
    "        writer.writerows(outtweets)\n",
    "    pass\n",
    "\n",
    "if __name__ == '__main__':\n",
    "    get_all_tweets(\"KelloggCompany\")"
   ]
  },
  {
   "cell_type": "code",
   "execution_count": null,
   "metadata": {},
   "outputs": [],
   "source": []
  }
 ],
 "metadata": {
  "kernelspec": {
   "display_name": "Python 3",
   "language": "python",
   "name": "python3"
  },
  "language_info": {
   "codemirror_mode": {
    "name": "ipython",
    "version": 3
   },
   "file_extension": ".py",
   "mimetype": "text/x-python",
   "name": "python",
   "nbconvert_exporter": "python",
   "pygments_lexer": "ipython3",
   "version": "3.7.3 (default, Apr  7 2020, 14:06:47) \n[Clang 11.0.3 (clang-1103.0.32.59)]"
  },
  "vscode": {
   "interpreter": {
    "hash": "31f2aee4e71d21fbe5cf8b01ff0e069b9275f58929596ceb00d14d90e3e16cd6"
   }
  }
 },
 "nbformat": 4,
 "nbformat_minor": 4
}
