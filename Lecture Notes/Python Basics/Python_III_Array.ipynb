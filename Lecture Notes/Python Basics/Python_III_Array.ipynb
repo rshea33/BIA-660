{
 "cells": [
  {
   "cell_type": "markdown",
   "metadata": {},
   "source": [
    "# <center>Arrays for Scientific Computation</center>\n",
    "References:\n",
    "* Numpy Quickstart Tutorial: https://docs.scipy.org/doc/numpy-1.14.0/user/quickstart.html\n",
    "* Numpy Tutorial: http://cs231n.github.io/python-numpy-tutorial/#numpy\n",
    "* Broadcasting arrays in Numpy, https://eli.thegreenplace.net/2015/broadcasting-arrays-in-numpy/"
   ]
  },
  {
   "cell_type": "markdown",
   "metadata": {},
   "source": [
    "## 1. Numpy\n",
    "- Numpy is the core library for scientific computing in Python. It provides high-performance multidimensional array objects, and tools for working with these arrays. \n",
    "\n",
    "- A numpy **array** is a grid of values, usually of the same type, although technically you can store values of different types (this may complicate array operation). \n",
    "    - The number of dimensions is the **rank** of the array\n",
    "    - The **shape** of an array is a tuple of integers giving the size of the array along each dimension\n",
    "      * e.g. array([5, 2, 3]) has shape (3,) \n",
    "      * e.g. array([[5, 2, 3], [1,2,3]]) has shape (2,3)\n",
    "    - Numpy arrays can be initialized from nested Python lists, and access elements using square brackets"
   ]
  },
  {
   "cell_type": "code",
   "execution_count": 2,
   "metadata": {},
   "outputs": [],
   "source": [
    "# enable interactiveShell\n",
    "# so that Jupyter will display variables or \n",
    "# unassigned output of a statement \n",
    "# without the need for a print statement\n",
    "# interactive shell don't need prinnt\n",
    "from IPython.core.interactiveshell import InteractiveShell\n",
    "InteractiveShell.ast_node_interactivity = \"all\"\n",
    "\n",
    "# import numpy package\n",
    "import numpy as np\n"
   ]
  },
  {
   "cell_type": "code",
   "execution_count": 3,
   "metadata": {},
   "outputs": [
    {
     "name": "stdout",
     "output_type": "stream",
     "text": [
      "1. data type: <class 'numpy.ndarray'>\n",
      "2. array shape,  (3,)\n",
      "3. the first element: 1\n"
     ]
    },
    {
     "data": {
      "text/plain": [
       "array([5, 2, 3])"
      ]
     },
     "execution_count": 3,
     "metadata": {},
     "output_type": "execute_result"
    }
   ],
   "source": [
    "# Exercise 1.1. Initialize an array from list\n",
    "\n",
    "# Create a rank 1 array\n",
    "a = np.array([1, 2, 3])  \n",
    "\n",
    "print (\"1. data type:\", type(a))\n",
    "\n",
    "print(\"2. array shape, \",a.shape)\n",
    "# Note, (3,) means a tuple with only one element, \n",
    "# to have a tuple with only one element, \n",
    "# the \",\" at the end is mandatory\n",
    "\n",
    "# following the same indexing rule to access elements\n",
    "print(\"3. the first element:\", a[0])\n",
    "\n",
    "# Change an element of the array\n",
    "a[0] = 5                 \n",
    "a"
   ]
  },
  {
   "cell_type": "code",
   "execution_count": 9,
   "metadata": {},
   "outputs": [
    {
     "data": {
      "text/plain": [
       "array([[1, 2, 3],\n",
       "       [4, 5, 6]])"
      ]
     },
     "execution_count": 9,
     "metadata": {},
     "output_type": "execute_result"
    },
    {
     "name": "stdout",
     "output_type": "stream",
     "text": [
      "1. b's shape: (2, 3)\n",
      "2. value at (0,0):  1\n",
      "3. value at (1,2):  6\n"
     ]
    }
   ],
   "source": [
    "# Exercise 1.2. Create a rank 2 array from list of lists\n",
    "\n",
    "b = np.array([[1,2,3],[4,5,6]])   \n",
    "b\n",
    "\n",
    "print (\"1. b's shape:\", b.shape) \n",
    "\n",
    "# an array with rank 2 can be sliced in each dimension \n",
    "print(\"2. value at (0,0): \", b[0, 0])\n",
    "print(\"3. value at (1,2): \", b[1, 2])   \n"
   ]
  },
  {
   "cell_type": "code",
   "execution_count": 10,
   "metadata": {},
   "outputs": [
    {
     "data": {
      "text/plain": [
       "array([[0., 0.],\n",
       "       [0., 0.]])"
      ]
     },
     "execution_count": 10,
     "metadata": {},
     "output_type": "execute_result"
    }
   ],
   "source": [
    "# Exercise 1.3. Create a rank 2 array of all zeros\n",
    "\n",
    "a = np.zeros((2,2))  \n",
    "a"
   ]
  },
  {
   "cell_type": "code",
   "execution_count": 11,
   "metadata": {},
   "outputs": [
    {
     "data": {
      "text/plain": [
       "array([[1., 1.],\n",
       "       [1., 1.],\n",
       "       [1., 1.]])"
      ]
     },
     "execution_count": 11,
     "metadata": {},
     "output_type": "execute_result"
    }
   ],
   "source": [
    "# Exercise 1.4. Create a rank 2 array of all ones\n",
    "\n",
    "b = np.ones((3,2))   \n",
    "b"
   ]
  },
  {
   "cell_type": "code",
   "execution_count": 12,
   "metadata": {},
   "outputs": [
    {
     "data": {
      "text/plain": [
       "array([[7, 7],\n",
       "       [7, 7]])"
      ]
     },
     "execution_count": 12,
     "metadata": {},
     "output_type": "execute_result"
    }
   ],
   "source": [
    "# Exercise 1.5. Create a constant array\n",
    "\n",
    "c = np.full((2,2), 7) \n",
    "c"
   ]
  },
  {
   "cell_type": "code",
   "execution_count": 7,
   "metadata": {},
   "outputs": [
    {
     "data": {
      "text/plain": [
       "array([[1., 0.],\n",
       "       [0., 1.]])"
      ]
     },
     "execution_count": 7,
     "metadata": {},
     "output_type": "execute_result"
    }
   ],
   "source": [
    "# Exercise 1.6. a 2x2 identity matrix\n",
    "\n",
    "d = np.eye(2)        \n",
    "d"
   ]
  },
  {
   "cell_type": "code",
   "execution_count": 41,
   "metadata": {},
   "outputs": [
    {
     "data": {
      "text/plain": [
       "array([[0.20445225, 0.87811744],\n",
       "       [0.02738759, 0.67046751]])"
      ]
     },
     "execution_count": 41,
     "metadata": {},
     "output_type": "execute_result"
    },
    {
     "data": {
      "text/plain": [
       "array([[0.4173048 , 0.55868983],\n",
       "       [0.14038694, 0.19810149]])"
      ]
     },
     "execution_count": 41,
     "metadata": {},
     "output_type": "execute_result"
    },
    {
     "data": {
      "text/plain": [
       "array([[2, 2, 2, 2, 1],\n",
       "       [5, 2, 1, 1, 4],\n",
       "       [3, 2, 1, 4, 2],\n",
       "       [2, 4, 5, 1, 2]])"
      ]
     },
     "execution_count": 41,
     "metadata": {},
     "output_type": "execute_result"
    },
    {
     "data": {
      "text/plain": [
       "array([[4.17022005e-01, 7.20324493e-01],\n",
       "       [1.14374817e-04, 3.02332573e-01]])"
      ]
     },
     "execution_count": 41,
     "metadata": {},
     "output_type": "execute_result"
    }
   ],
   "source": [
    "# Exercise 1.7. # Create a matrix filled with random values\n",
    "\n",
    "# uniform distributed random floats within [0, 1.0)\n",
    "np.random.rand(2,2)  # shape (2,2)\n",
    "np.random.random((2,2)) # shape (2,2)\n",
    "\n",
    "# randint(low, high, size): random integer\n",
    "np.random.randint(1, 6, (4,5))\n",
    "\n",
    "np.random.seed(1);np.random.rand(2,2)"
   ]
  },
  {
   "cell_type": "code",
   "execution_count": 3,
   "metadata": {},
   "outputs": [
    {
     "data": {
      "text/plain": [
       "(1, 3, 2)"
      ]
     },
     "execution_count": 3,
     "metadata": {},
     "output_type": "execute_result"
    },
    {
     "data": {
      "text/plain": [
       "array([[[ 1.48452383, -0.0248064 ],\n",
       "        [ 0.35999686, -1.17272166],\n",
       "        [-0.740971  , -1.89597667]]])"
      ]
     },
     "execution_count": 3,
     "metadata": {},
     "output_type": "execute_result"
    },
    {
     "data": {
      "text/plain": [
       "array([[ 1.48452383, -0.0248064 ],\n",
       "       [ 0.35999686, -1.17272166],\n",
       "       [-0.740971  , -1.89597667]])"
      ]
     },
     "execution_count": 3,
     "metadata": {},
     "output_type": "execute_result"
    },
    {
     "data": {
      "text/plain": [
       "array([-1.17272166])"
      ]
     },
     "execution_count": 3,
     "metadata": {},
     "output_type": "execute_result"
    }
   ],
   "source": [
    "# randn(d0, d1, ...dn): random floats \n",
    "# from normal distribution with shape (d0,d1,..., dn)\n",
    "# mean 0 variance 1\n",
    "\n",
    "a = np.random.randn(1,3,2) # array with rank 3\n",
    "a.shape\n",
    "a\n",
    "a[0]\n",
    "a[:,1,1]"
   ]
  },
  {
   "cell_type": "code",
   "execution_count": 100,
   "metadata": {},
   "outputs": [
    {
     "data": {
      "text/plain": [
       "array([[-0.08523683, -0.29460413,  0.7955637 ]])"
      ]
     },
     "execution_count": 100,
     "metadata": {},
     "output_type": "execute_result"
    },
    {
     "data": {
      "text/plain": [
       "array([[ 2.0679274 ],\n",
       "       [-0.98423193],\n",
       "       [ 0.34347093]])"
      ]
     },
     "execution_count": 100,
     "metadata": {},
     "output_type": "execute_result"
    },
    {
     "data": {
      "text/plain": [
       "array([-0.08874451,  0.15656603, -0.02949018])"
      ]
     },
     "execution_count": 100,
     "metadata": {},
     "output_type": "execute_result"
    }
   ],
   "source": [
    "A = np.random.randn(1,3)\n",
    "A\n",
    "A = np.random.randn(3,1)\n",
    "A\n",
    "A = np.random.randn(3,)\n",
    "A"
   ]
  },
  {
   "cell_type": "code",
   "execution_count": 3,
   "metadata": {},
   "outputs": [
    {
     "data": {
      "text/plain": [
       "array([0, 1, 2, 3, 4, 5])"
      ]
     },
     "execution_count": 3,
     "metadata": {},
     "output_type": "execute_result"
    },
    {
     "data": {
      "text/plain": [
       "array([[ 0,  1,  2],\n",
       "       [ 3,  4,  5],\n",
       "       [ 6,  7,  8],\n",
       "       [ 9, 10, 11]])"
      ]
     },
     "execution_count": 3,
     "metadata": {},
     "output_type": "execute_result"
    },
    {
     "data": {
      "text/plain": [
       "array([[[ 0,  1,  2,  3],\n",
       "        [ 4,  5,  6,  7],\n",
       "        [ 8,  9, 10, 11]],\n",
       "\n",
       "       [[12, 13, 14, 15],\n",
       "        [16, 17, 18, 19],\n",
       "        [20, 21, 22, 23]]])"
      ]
     },
     "execution_count": 3,
     "metadata": {},
     "output_type": "execute_result"
    }
   ],
   "source": [
    "# similar to python range\n",
    "a = np.arange(6)                \n",
    "a\n",
    "b = np.arange(12).reshape(4, 3)     \n",
    "b\n",
    "c = np.arange(24).reshape(2, 3, 4)\n",
    "c"
   ]
  },
  {
   "cell_type": "markdown",
   "metadata": {},
   "source": [
    "### 1.1. Array Slicing\n",
    " - **Similar to Python lists, numpy arrays can be sliced**. \n",
    " - Since arrays may be multidimensional, you must **specify a slice for each dimension of the array**\n",
    " - **A slice of an array is a view into the same data**, so modifying it will modify the original array."
   ]
  },
  {
   "cell_type": "code",
   "execution_count": 11,
   "metadata": {},
   "outputs": [
    {
     "data": {
      "text/plain": [
       "(3, 4)"
      ]
     },
     "execution_count": 11,
     "metadata": {},
     "output_type": "execute_result"
    },
    {
     "data": {
      "text/plain": [
       "array([1, 2, 3, 4])"
      ]
     },
     "execution_count": 11,
     "metadata": {},
     "output_type": "execute_result"
    },
    {
     "data": {
      "text/plain": [
       "(4,)"
      ]
     },
     "execution_count": 11,
     "metadata": {},
     "output_type": "execute_result"
    },
    {
     "name": "stdout",
     "output_type": "stream",
     "text": [
      "0 [1 2 3 4]\n",
      "1 [5 6 7 8]\n",
      "2 [ 9 10 11 12]\n"
     ]
    },
    {
     "data": {
      "text/plain": [
       "(3, 2)"
      ]
     },
     "execution_count": 11,
     "metadata": {},
     "output_type": "execute_result"
    }
   ],
   "source": [
    "# Exercise 1.1.1 Get a specific row\n",
    "\n",
    "a = np.array([[1,2,3,4], [5,6,7,8], [9,10,11,12]])\n",
    "a.shape\n",
    "\n",
    "# get the first row\n",
    "a[0]      # a[0,:] does the same too\n",
    "\n",
    "# shape of the first row\n",
    "a[0].shape\n",
    "\n",
    "\n",
    "# loop through all rows\n",
    "for idx,row in enumerate(a):\n",
    "    print(idx, row)\n",
    "\n",
    "# what if the array has shape (4,3,2)? \n",
    "# what is the shape of its first row?\n",
    "c = np.arange(24).reshape(4,3,2)\n",
    "c[0].shape"
   ]
  },
  {
   "cell_type": "code",
   "execution_count": 3,
   "metadata": {},
   "outputs": [
    {
     "data": {
      "text/plain": [
       "array([1, 5, 9])"
      ]
     },
     "execution_count": 3,
     "metadata": {},
     "output_type": "execute_result"
    },
    {
     "data": {
      "text/plain": [
       "(3,)"
      ]
     },
     "execution_count": 3,
     "metadata": {},
     "output_type": "execute_result"
    },
    {
     "data": {
      "text/plain": [
       "(4, 2)"
      ]
     },
     "execution_count": 3,
     "metadata": {},
     "output_type": "execute_result"
    }
   ],
   "source": [
    "# Exercise 1.1.2 Get a specific column\n",
    "\n",
    "a = np.array([[1,2,3,4], [5,6,7,8], [9,10,11,12]])\n",
    "\n",
    "# get the first column\n",
    "column_1=a[:, 0]      \n",
    "column_1\n",
    "\n",
    "# shape of 1st column\n",
    "# Notice that the 1st column has reduced rank. It's just one dimensional\n",
    "column_1.shape\n",
    "\n",
    "# Question: if array X has shape (4,3,2)\n",
    "# what is the shape of X[:,0,:]?\n",
    "\n"
   ]
  },
  {
   "cell_type": "code",
   "execution_count": 4,
   "metadata": {},
   "outputs": [
    {
     "data": {
      "text/plain": [
       "array([[ 1,  2,  3,  4],\n",
       "       [ 5,  6,  7,  8],\n",
       "       [ 9, 10, 11, 12]])"
      ]
     },
     "execution_count": 4,
     "metadata": {},
     "output_type": "execute_result"
    },
    {
     "data": {
      "text/plain": [
       "(3, 4)"
      ]
     },
     "execution_count": 4,
     "metadata": {},
     "output_type": "execute_result"
    },
    {
     "data": {
      "text/plain": [
       "array([[2, 3],\n",
       "       [6, 7]])"
      ]
     },
     "execution_count": 4,
     "metadata": {},
     "output_type": "execute_result"
    }
   ],
   "source": [
    "# Exercise 1.1.3 Get subarrays\n",
    "\n",
    "a = np.array([[1,2,3,4], [5,6,7,8], [9,10,11,12]])\n",
    "a\n",
    "a.shape\n",
    "\n",
    "# Use slicing to pull out the subarray \n",
    "# consisting of the first two rows\n",
    "# and 2nd and 3rd columns \n",
    "\n",
    "b = a[0:2, 1:3]\n",
    "b\n",
    "\n",
    "# Question: if array X has shape (4,3,2)\n",
    "# what is the shape of X[:,1:3,:]?\n",
    "# what is the shape of X[:,1:3,1]?\n"
   ]
  },
  {
   "cell_type": "code",
   "execution_count": 3,
   "metadata": {},
   "outputs": [
    {
     "data": {
      "text/plain": [
       "array([[ 1,  2,  3,  4],\n",
       "       [ 5,  6,  7,  8],\n",
       "       [ 9, 10, 11, 12]])"
      ]
     },
     "execution_count": 3,
     "metadata": {},
     "output_type": "execute_result"
    },
    {
     "data": {
      "text/plain": [
       "array([ 1, 11])"
      ]
     },
     "execution_count": 3,
     "metadata": {},
     "output_type": "execute_result"
    },
    {
     "data": {
      "text/plain": [
       "array([[ 7,  8],\n",
       "       [11, 12]])"
      ]
     },
     "execution_count": 3,
     "metadata": {},
     "output_type": "execute_result"
    },
    {
     "data": {
      "text/plain": [
       "array([[ 4,  3,  2,  1],\n",
       "       [ 8,  7,  6,  5],\n",
       "       [12, 11, 10,  9]])"
      ]
     },
     "execution_count": 3,
     "metadata": {},
     "output_type": "execute_result"
    }
   ],
   "source": [
    "# Exercise 1.1.4 \n",
    "\n",
    "a = np.array([[1,2,3,4], [5,6,7,8], [9,10,11,12]])\n",
    "a\n",
    "\n",
    "# Q1. Get subset of \"a\" consisting of\n",
    "#    the 1st & 3rd rows and\n",
    "#    the 1st & 3rd columns\n",
    "# Here the rows and columns are not continuous.\n",
    "\n",
    "\n",
    "# Can you use: a[[0,2], [0,2]] ? See what you get.\n",
    "a[[0,2], [0,2]]\n",
    "\n",
    "# How to revise?\n",
    "\n",
    "\n",
    "\n",
    "\n",
    "\n",
    "# Q2. get the last two rows and last two columns\n",
    "a[-2:,-2:]\n",
    "\n",
    "# Q3. Reverse the order of columns, \n",
    "#    i.e. the first column becomes the last\n",
    "a[:,::-1]"
   ]
  },
  {
   "cell_type": "code",
   "execution_count": 49,
   "metadata": {},
   "outputs": [
    {
     "data": {
      "text/plain": [
       "array([[ 1,  2,  3,  4],\n",
       "       [ 5,  6,  7,  8],\n",
       "       [ 9, 10, 11, 12]])"
      ]
     },
     "execution_count": 49,
     "metadata": {},
     "output_type": "execute_result"
    },
    {
     "name": "stdout",
     "output_type": "stream",
     "text": [
      "[[2 3]\n",
      " [6 7]]\n",
      "1. Original value at (0,1): 2\n",
      "2. Modified value at (0,1): 77\n"
     ]
    },
    {
     "data": {
      "text/plain": [
       "array([[ 1, 77,  3,  4],\n",
       "       [ 5,  6,  7,  8],\n",
       "       [ 9, 10, 11, 12]])"
      ]
     },
     "execution_count": 49,
     "metadata": {},
     "output_type": "execute_result"
    }
   ],
   "source": [
    "# Exercise 1.1.5: Modify slice\n",
    "\n",
    "# A slice of an array is **a view into the same data**, \n",
    "# so modifying it will modify the original array.\n",
    "\n",
    "a = np.array([[1,2,3,4], [5,6,7,8], [9,10,11,12]])\n",
    "a\n",
    "\n",
    "# b is a slice\n",
    "b = a[:2, 1:3]\n",
    "print(b)\n",
    "\n",
    "print (\"1. Original value at (0,1):\", a[0, 1])  \n",
    "b[0, 0] = 77    \n",
    "\n",
    "# b[0, 0] is the same piece of data as a[0, 1]\n",
    "print (\"2. Modified value at (0,1):\", a[0, 1])  \n",
    "\n",
    "# how to avoid modifying the original array? Use copy() function\n",
    "b1=np.copy(b)\n",
    "b1[0,0]=100\n",
    "a"
   ]
  },
  {
   "cell_type": "markdown",
   "metadata": {},
   "source": [
    "### 1.2. Boolean array indexing (Selection by conditions)\n",
    "\n",
    "- Boolean array indexing lets you pick out arbitrary elements of an array. \n",
    "- Frequently this type of indexing is used to select elements of an array that satisfy some conditions. \n",
    "- Typically it's used with function **np.where**"
   ]
  },
  {
   "cell_type": "code",
   "execution_count": 40,
   "metadata": {},
   "outputs": [
    {
     "data": {
      "text/plain": [
       "array([[1, 2],\n",
       "       [3, 4],\n",
       "       [5, 6]])"
      ]
     },
     "execution_count": 40,
     "metadata": {},
     "output_type": "execute_result"
    },
    {
     "data": {
      "text/plain": [
       "array([[False, False],\n",
       "       [ True,  True],\n",
       "       [ True,  True]])"
      ]
     },
     "execution_count": 40,
     "metadata": {},
     "output_type": "execute_result"
    }
   ],
   "source": [
    "# Exercise 1.2.1: boolean array indexing\n",
    "\n",
    "a = np.array([[1,2], [3, 4], [5, 6]])\n",
    "a\n",
    "\n",
    "# Find the elements of \"a\" that are bigger than 2;\n",
    "# this returns a numpy array of Booleans of the same\n",
    "# shape as a, where value tells\n",
    "# whether that element of a is > 2\n",
    "\n",
    "bool_idx = (a > 2)  \n",
    "\n",
    "bool_idx"
   ]
  },
  {
   "cell_type": "code",
   "execution_count": 41,
   "metadata": {},
   "outputs": [
    {
     "name": "stdout",
     "output_type": "stream",
     "text": [
      "[3 4 5 6]\n",
      "[3 4 5 6]\n"
     ]
    }
   ],
   "source": [
    "# Exercise 1.2.2: Select values >2\n",
    "\n",
    "print (a[bool_idx])\n",
    "\n",
    "# We can do all of the above in a single \n",
    "# concise statement:\n",
    "print (a[a > 2])\n",
    "\n",
    "# note the result is 1-dimension array"
   ]
  },
  {
   "cell_type": "code",
   "execution_count": 31,
   "metadata": {},
   "outputs": [
    {
     "data": {
      "text/plain": [
       "(array([1, 1, 2, 2]), array([0, 1, 0, 1]))"
      ]
     },
     "execution_count": 31,
     "metadata": {},
     "output_type": "execute_result"
    },
    {
     "data": {
      "text/plain": [
       "array([3, 4, 5, 6])"
      ]
     },
     "execution_count": 31,
     "metadata": {},
     "output_type": "execute_result"
    }
   ],
   "source": [
    "# Exercise 1.2.3: Find locations where value>2\n",
    "\n",
    "a = np.array([[1,2], [3, 4], [5, 6]])\n",
    "\n",
    "# np.where returns the locations satisfying the condition\n",
    "# as a tuple of lists at one axis \n",
    "\n",
    "np.where(a>2)\n",
    "# tuple 1st element gives you the index of axis 0, 2nd element gives you the index of axis 1\n",
    "# which give you the corresponding location of four elements that satisfy the condition\n",
    "a[np.where(a>2)]"
   ]
  },
  {
   "cell_type": "code",
   "execution_count": 48,
   "metadata": {},
   "outputs": [
    {
     "name": "stdout",
     "output_type": "stream",
     "text": [
      "1. Before change: [[4 2]\n",
      " [3 4]\n",
      " [5 0]]\n",
      "2. After change: [[3 2]\n",
      " [3 3]\n",
      " [3 0]]\n",
      "3. Binarized array: [[1 0]\n",
      " [0 1]\n",
      " [1 0]]\n"
     ]
    }
   ],
   "source": [
    "# Exercise 1.2.4: change values by conditions\n",
    "\n",
    "a = np.array([[4,2], [3, 4], [5, 0]])\n",
    "print(\"1. Before change:\", a)\n",
    "\n",
    "# if a value >3, set it to 3\n",
    "a[np.where(a>3)]=3\n",
    "\n",
    "print(\"2. After change:\", a)\n",
    "\n",
    "# binarize the array, \n",
    "# if a value>3, set it to 1; otherwise, 0\n",
    "a = np.array([[4,2], [3, 4], [5, 0]])\n",
    "print(\"3. Binarized array:\", np.where(a>3, 1, 0))\n"
   ]
  },
  {
   "cell_type": "markdown",
   "metadata": {},
   "source": [
    "### 1.3. Array Math\n",
    "\n",
    "- Basic mathematical functions operate **elementwise** on arrays, and are available both as operator overloads and as functions in the numpy module\n",
    "- Pay attention to the difference between **elementwise product** and **dot product**"
   ]
  },
  {
   "cell_type": "code",
   "execution_count": 19,
   "metadata": {},
   "outputs": [
    {
     "name": "stdout",
     "output_type": "stream",
     "text": [
      "[[ 6  8]\n",
      " [10 12]]\n",
      "[[ 6  8]\n",
      " [10 12]]\n"
     ]
    }
   ],
   "source": [
    "# Exercise 1.3.1: array addition\n",
    "\n",
    "x = np.array([[1,2],[3,4]])\n",
    "y = np.array([[5,6],[7,8]])\n",
    "\n",
    "# Elementwise sum; both produce the array\n",
    "print (x + y)\n",
    "print (np.add(x, y))"
   ]
  },
  {
   "cell_type": "code",
   "execution_count": 20,
   "metadata": {},
   "outputs": [
    {
     "name": "stdout",
     "output_type": "stream",
     "text": [
      "[[-4 -4]\n",
      " [-4 -4]]\n",
      "[[-4 -4]\n",
      " [-4 -4]]\n"
     ]
    }
   ],
   "source": [
    "# Exercise 1.3.2: Subtraction\n",
    "\n",
    "x = np.array([[1,2],[3,4]])\n",
    "y = np.array([[5,6],[7,8]])\n",
    "\n",
    "#Elementwise difference; both produce the array\n",
    "print (x - y)\n",
    "print (np.subtract(x, y))"
   ]
  },
  {
   "cell_type": "code",
   "execution_count": 21,
   "metadata": {},
   "outputs": [
    {
     "name": "stdout",
     "output_type": "stream",
     "text": [
      "[[ 5 12]\n",
      " [21 32]]\n",
      "[[ 5 12]\n",
      " [21 32]]\n"
     ]
    }
   ],
   "source": [
    "# Exercise 1.3.3:  Elementwise product\n",
    "\n",
    "x = np.array([[1,2],[3,4]])\n",
    "y = np.array([[5,6],[7,8]])\n",
    "\n",
    "print (x * y)\n",
    "print (np.multiply(x, y))"
   ]
  },
  {
   "cell_type": "code",
   "execution_count": 49,
   "metadata": {},
   "outputs": [
    {
     "data": {
      "text/plain": [
       "array([[19, 22],\n",
       "       [43, 50]])"
      ]
     },
     "execution_count": 49,
     "metadata": {},
     "output_type": "execute_result"
    },
    {
     "data": {
      "text/plain": [
       "array([[19, 22],\n",
       "       [43, 50]])"
      ]
     },
     "execution_count": 49,
     "metadata": {},
     "output_type": "execute_result"
    }
   ],
   "source": [
    "# Exercise 1.3.4:  dot product is matrix multiplication\n",
    "\n",
    "x = np.array([[1,2],[3,4]])\n",
    "y = np.array([[5,6],[7,8]])\n",
    "\n",
    "np.dot(x, y)\n",
    "x.dot(y)\n",
    "\n",
    "# compare the result with Exercise 1.3.3"
   ]
  },
  {
   "cell_type": "code",
   "execution_count": 23,
   "metadata": {},
   "outputs": [
    {
     "name": "stdout",
     "output_type": "stream",
     "text": [
      "[[0.2        0.33333333]\n",
      " [0.42857143 0.5       ]]\n",
      "[[0.2        0.33333333]\n",
      " [0.42857143 0.5       ]]\n"
     ]
    }
   ],
   "source": [
    "# Exercise 1.3.4:  Elementwise division\n",
    "\n",
    "print (x / y)\n",
    "print (np.divide(x, y))\n"
   ]
  },
  {
   "cell_type": "code",
   "execution_count": 24,
   "metadata": {},
   "outputs": [
    {
     "data": {
      "text/plain": [
       "array([[1.        , 1.41421356],\n",
       "       [1.73205081, 2.        ]])"
      ]
     },
     "execution_count": 24,
     "metadata": {},
     "output_type": "execute_result"
    }
   ],
   "source": [
    "# Exercise 1.3.5:  Elementwise square/square root/log/...\n",
    "x = np.array([[1,2],[3,4]])\n",
    "np.sqrt(x)"
   ]
  },
  {
   "cell_type": "code",
   "execution_count": 115,
   "metadata": {},
   "outputs": [
    {
     "data": {
      "text/plain": [
       "array([[10, 15,  8],\n",
       "       [ 6,  9,  6],\n",
       "       [10, 15, 14]])"
      ]
     },
     "execution_count": 115,
     "metadata": {},
     "output_type": "execute_result"
    }
   ],
   "source": [
    "x=np.array([[1,4],[1,2],[3,2]])\n",
    "y=np.array([[2,3,4],[2,3,1]])\n",
    "x.dot(y)"
   ]
  },
  {
   "cell_type": "markdown",
   "metadata": {},
   "source": [
    "### 1.4. Other useful array functions\n",
    "\n",
    "- Numpy provides many useful functions for performing computations on arrays\n",
    "    - **sum/mean/min/max/std**  along different dimensions\n",
    "    - **transpose**\n",
    "    - reshape, expand/squeeze dimensions\n",
    "    - **sort** and **argsort**"
   ]
  },
  {
   "cell_type": "code",
   "execution_count": 6,
   "metadata": {},
   "outputs": [
    {
     "data": {
      "text/plain": [
       "array([[1, 2],\n",
       "       [3, 4],\n",
       "       [3, 5]])"
      ]
     },
     "execution_count": 6,
     "metadata": {},
     "output_type": "execute_result"
    },
    {
     "name": "stdout",
     "output_type": "stream",
     "text": [
      "1. sum of all elements: 18\n",
      "2. sum of each column: [ 7 11]\n"
     ]
    },
    {
     "data": {
      "text/plain": [
       "(1, 2)"
      ]
     },
     "execution_count": 6,
     "metadata": {},
     "output_type": "execute_result"
    },
    {
     "name": "stdout",
     "output_type": "stream",
     "text": [
      "3. sum of each row: [3 7 8]\n"
     ]
    }
   ],
   "source": [
    "# Exercise 1.4.1:  array sum/mean/max/min/std\n",
    "\n",
    "x = np.array([[1,2],[3,4],[3,5]])\n",
    "x\n",
    "\n",
    "# Compute sum of all elements; prints \"10\"\n",
    "print (\"1. sum of all elements:\",np.sum(x))  \n",
    "# or directly use x.sum()\n",
    "\n",
    "# Compute sum of each column (dimension 0)\n",
    "# return 1-dimension array\n",
    "print (\"2. sum of each column:\", np.sum(x, axis=0))  \n",
    "np.sum(x, axis=0, keepdims=True).shape\n",
    "\n",
    "# Compute sum of each row (dimension 1)\n",
    "# return 1-dimension array\n",
    "print (\"3. sum of each row:\", np.sum(x, axis=1))  "
   ]
  },
  {
   "cell_type": "code",
   "execution_count": 7,
   "metadata": {},
   "outputs": [
    {
     "data": {
      "text/plain": [
       "array([[1],\n",
       "       [2],\n",
       "       [3]])"
      ]
     },
     "execution_count": 7,
     "metadata": {},
     "output_type": "execute_result"
    },
    {
     "data": {
      "text/plain": [
       "array([[1, 2, 3]])"
      ]
     },
     "execution_count": 7,
     "metadata": {},
     "output_type": "execute_result"
    },
    {
     "data": {
      "text/plain": [
       "array([6])"
      ]
     },
     "execution_count": 7,
     "metadata": {},
     "output_type": "execute_result"
    },
    {
     "data": {
      "text/plain": [
       "array([1, 2, 3])"
      ]
     },
     "execution_count": 7,
     "metadata": {},
     "output_type": "execute_result"
    },
    {
     "data": {
      "text/plain": [
       "array([1, 2, 3])"
      ]
     },
     "execution_count": 7,
     "metadata": {},
     "output_type": "execute_result"
    },
    {
     "data": {
      "text/plain": [
       "array([6])"
      ]
     },
     "execution_count": 7,
     "metadata": {},
     "output_type": "execute_result"
    }
   ],
   "source": [
    "# sum on different axis\n",
    "a = np.array([1, 2, 3])\n",
    "a1 = a.reshape(3,1)\n",
    "a2 = a.reshape(1,3) # note the difference with a\n",
    "a1\n",
    "a2\n",
    "a1.sum(axis=0)\n",
    "a1.sum(axis=1)\n",
    "a2.sum(axis=0)\n",
    "a2.sum(axis=1)"
   ]
  },
  {
   "cell_type": "code",
   "execution_count": 9,
   "metadata": {},
   "outputs": [
    {
     "data": {
      "text/plain": [
       "(4, 3)"
      ]
     },
     "execution_count": 9,
     "metadata": {},
     "output_type": "execute_result"
    }
   ],
   "source": [
    "#  high-rank array sum/mean/max/min/std\n",
    "\n",
    "a=np.random.randn(4,3,2)\n",
    "\n",
    "# sum along the last dimension\n",
    "sum_2=np.sum(a, axis=-1)\n",
    "\n",
    "# the dimension selected for sum will \n",
    "# be removed in the sum\n",
    "sum_2.shape\n",
    "\n",
    "\n",
    "# to keep the sum with the same rank?\n",
    "# use argument keepdims, i.e., np.sum(a, axis=-1, keepdims = True)\n"
   ]
  },
  {
   "cell_type": "code",
   "execution_count": 10,
   "metadata": {},
   "outputs": [
    {
     "data": {
      "text/plain": [
       "array([[1, 2],\n",
       "       [3, 4],\n",
       "       [5, 6]])"
      ]
     },
     "execution_count": 10,
     "metadata": {},
     "output_type": "execute_result"
    },
    {
     "name": "stdout",
     "output_type": "stream",
     "text": [
      "1. shape of x: (3, 2)\n",
      "2. transpose of x: [[1 3 5]\n",
      " [2 4 6]]\n",
      "3. shape of the transpose of x: (2, 3)\n"
     ]
    }
   ],
   "source": [
    "# Exercise 1.4.2:  Array transpose\n",
    "x = np.array([[1,2],[3,4],[5,6]])\n",
    "x\n",
    "print(\"1. shape of x:\", x.shape)\n",
    "print (\"2. transpose of x:\", x.T)\n",
    "print(\"3. shape of the transpose of x:\", x.T.shape)"
   ]
  },
  {
   "cell_type": "code",
   "execution_count": 11,
   "metadata": {},
   "outputs": [
    {
     "name": "stdout",
     "output_type": "stream",
     "text": [
      "1. reshape to 2x3 matrix: [[1 2 3]\n",
      " [4 5 6]]\n",
      "2. flatten x: [1 2 3 4 5 6]\n"
     ]
    }
   ],
   "source": [
    "# Exercise 1.4.2:  Array reshape\n",
    "\n",
    "x = np.array([[1,2],[3,4],[5,6]])\n",
    "\n",
    "# reshape it to 2x3 matrix\n",
    "print(\"1. reshape to 2x3 matrix:\", np.reshape(x, (2,3)))\n",
    "# note that this is different from transpose\n",
    "\n",
    "# flatten the matrix into 1-dimension array\n",
    "print (\"2. flatten x:\", np.reshape(x, -1))"
   ]
  },
  {
   "cell_type": "code",
   "execution_count": 12,
   "metadata": {},
   "outputs": [
    {
     "data": {
      "text/plain": [
       "(4,)"
      ]
     },
     "execution_count": 12,
     "metadata": {},
     "output_type": "execute_result"
    },
    {
     "data": {
      "text/plain": [
       "(2, 3)"
      ]
     },
     "execution_count": 12,
     "metadata": {},
     "output_type": "execute_result"
    },
    {
     "data": {
      "text/plain": [
       "(1, 4)"
      ]
     },
     "execution_count": 12,
     "metadata": {},
     "output_type": "execute_result"
    },
    {
     "data": {
      "text/plain": [
       "True"
      ]
     },
     "execution_count": 12,
     "metadata": {},
     "output_type": "execute_result"
    },
    {
     "data": {
      "text/plain": [
       "array([[1, 2, 3, 4]])"
      ]
     },
     "execution_count": 12,
     "metadata": {},
     "output_type": "execute_result"
    },
    {
     "data": {
      "text/plain": [
       "array([[1, 2, 3, 4]])"
      ]
     },
     "execution_count": 12,
     "metadata": {},
     "output_type": "execute_result"
    },
    {
     "data": {
      "text/plain": [
       "array([[1],\n",
       "       [2],\n",
       "       [3],\n",
       "       [4]])"
      ]
     },
     "execution_count": 12,
     "metadata": {},
     "output_type": "execute_result"
    },
    {
     "data": {
      "text/plain": [
       "array([[[1, 2, 1]],\n",
       "\n",
       "       [[3, 4, 3]]])"
      ]
     },
     "execution_count": 12,
     "metadata": {},
     "output_type": "execute_result"
    }
   ],
   "source": [
    "# Exercise 1.4.3:  Extend/squeeze dimensionality\n",
    "\n",
    "x = np.array([1,2,3,4])  # rank 1\n",
    "y = np.array([[1,2,1],[3,4,3]]) # rank 2\n",
    "x.shape\n",
    "y.shape\n",
    "\n",
    "# extend x to have shape (1,4)\n",
    "x1 = np.expand_dims(x, axis = 0 )\n",
    "x1.shape\n",
    "\n",
    "\n",
    "# Any other ways? Try the following:\n",
    "np.newaxis is None\n",
    "x[None,:]\n",
    "x[np.newaxis,:]\n",
    "\n",
    "# extend x to have shape (4,1)\n",
    "x[:,None]\n",
    "\n",
    "# extend y to have shape (2,1,3)\n",
    "y[:,None,:]"
   ]
  },
  {
   "cell_type": "code",
   "execution_count": 8,
   "metadata": {},
   "outputs": [
    {
     "data": {
      "text/plain": [
       "(1, 4)"
      ]
     },
     "execution_count": 8,
     "metadata": {},
     "output_type": "execute_result"
    },
    {
     "data": {
      "text/plain": [
       "array([1, 2, 3, 4])"
      ]
     },
     "execution_count": 8,
     "metadata": {},
     "output_type": "execute_result"
    }
   ],
   "source": [
    "# Remove single-dimensional entries from the shape of an array\n",
    "\n",
    "x = np.array([[1,2,3,4]])  # Shape (1,4)\n",
    "x.shape\n",
    "\n",
    "np.squeeze(x, axis=0)"
   ]
  },
  {
   "cell_type": "code",
   "execution_count": 36,
   "metadata": {},
   "outputs": [
    {
     "data": {
      "text/plain": [
       "array([[8, 2],\n",
       "       [3, 4],\n",
       "       [5, 2]])"
      ]
     },
     "execution_count": 36,
     "metadata": {},
     "output_type": "execute_result"
    },
    {
     "data": {
      "text/plain": [
       "array([[3, 2],\n",
       "       [5, 2],\n",
       "       [8, 4]])"
      ]
     },
     "execution_count": 36,
     "metadata": {},
     "output_type": "execute_result"
    },
    {
     "data": {
      "text/plain": [
       "array([[2, 8],\n",
       "       [3, 4],\n",
       "       [2, 5]])"
      ]
     },
     "execution_count": 36,
     "metadata": {},
     "output_type": "execute_result"
    },
    {
     "data": {
      "text/plain": [
       "array([[8, 4],\n",
       "       [5, 2],\n",
       "       [3, 2]])"
      ]
     },
     "execution_count": 36,
     "metadata": {},
     "output_type": "execute_result"
    }
   ],
   "source": [
    "# Exercise 1.4.4:  Array sort \n",
    "\n",
    "x = np.array([[8,2],[3,4],[5,2]])\n",
    "x\n",
    "\n",
    "# sort along the first axis (rows)\n",
    "np.sort(x, axis=0)\n",
    "\n",
    "# sort the matrix along the second axis (columns)\n",
    "# the default value of \"axis\" is -1, the last axis \n",
    "np.sort(x)\n",
    "\n",
    "# how to sort in descending order?\n",
    "np.sort(x, axis=0)[::-1]\n"
   ]
  },
  {
   "cell_type": "code",
   "execution_count": 14,
   "metadata": {},
   "outputs": [
    {
     "data": {
      "text/plain": [
       "array([[3, 2, 5],\n",
       "       [3, 4, 1]])"
      ]
     },
     "execution_count": 14,
     "metadata": {},
     "output_type": "execute_result"
    },
    {
     "data": {
      "text/plain": [
       "array([[1, 0, 2],\n",
       "       [2, 0, 1]])"
      ]
     },
     "execution_count": 14,
     "metadata": {},
     "output_type": "execute_result"
    },
    {
     "data": {
      "text/plain": [
       "array([[0, 0, 1],\n",
       "       [1, 1, 0]])"
      ]
     },
     "execution_count": 14,
     "metadata": {},
     "output_type": "execute_result"
    },
    {
     "data": {
      "text/plain": [
       "array([2, 1])"
      ]
     },
     "execution_count": 14,
     "metadata": {},
     "output_type": "execute_result"
    },
    {
     "data": {
      "text/plain": [
       "array([[0, 0, 1],\n",
       "       [1, 1, 0]])"
      ]
     },
     "execution_count": 14,
     "metadata": {},
     "output_type": "execute_result"
    }
   ],
   "source": [
    "# Exercise 1.4.5:  Array argsort, argmax, argmin\n",
    "\n",
    "x = np.array([[3,2,5],[3,4,1]])\n",
    "x\n",
    "# sort each row and return the **original index of each value**\n",
    "# in an array of the same shape as x\n",
    "x1=np.argsort(x,axis=1)\n",
    "x1\n",
    "\n",
    "# sort each column\n",
    "x.argsort(axis=0)\n",
    "\n",
    "# How can this function be useful?\n",
    "\n",
    "# how to find the indexes of the smallest/largest \n",
    "# value in each row ? \n",
    "x1[:,-1]\n",
    "\n",
    "# how to find the indexes of the largest value in each column?\n",
    "\n",
    "\n"
   ]
  },
  {
   "cell_type": "code",
   "execution_count": 19,
   "metadata": {},
   "outputs": [
    {
     "data": {
      "text/plain": [
       "array([[0, 5, 0, 1, 2],\n",
       "       [1, 0, 4, 0, 2],\n",
       "       [0, 2, 3, 1, 2]])"
      ]
     },
     "execution_count": 19,
     "metadata": {},
     "output_type": "execute_result"
    },
    {
     "data": {
      "text/plain": [
       "array([1, 7, 7, 2, 6])"
      ]
     },
     "execution_count": 19,
     "metadata": {},
     "output_type": "execute_result"
    },
    {
     "data": {
      "text/plain": [
       "array([8, 7, 8])"
      ]
     },
     "execution_count": 19,
     "metadata": {},
     "output_type": "execute_result"
    },
    {
     "data": {
      "text/plain": [
       "array([[0, 1, 0, 1, 1],\n",
       "       [1, 0, 1, 0, 1],\n",
       "       [0, 1, 1, 1, 1]])"
      ]
     },
     "execution_count": 19,
     "metadata": {},
     "output_type": "execute_result"
    },
    {
     "data": {
      "text/plain": [
       "array([1, 2, 2, 2, 3])"
      ]
     },
     "execution_count": 19,
     "metadata": {},
     "output_type": "execute_result"
    }
   ],
   "source": [
    "# Exercise 1.4.6: Term-Frequency Matrix:\n",
    "# each row is a document\n",
    "# each column is a word. \n",
    "# Suppose words are w_0, w_1, w_2, w_3, w_4\n",
    "# value at [i,j] is the count of word j \n",
    "# in document i\n",
    "\n",
    "tf=np.array([[0,5,0,1,2], [1,0,4,0,2], [0,2,3,1,2]])\n",
    "tf\n",
    "\n",
    "# 1. Count total occurrences of each word\n",
    "np.sum(tf, axis=0)\n",
    "\n",
    "# 2. Find the length of each document\n",
    "np.sum(tf, axis=1)\n",
    "\n",
    "# 3. Fill the term-frequency matrix \n",
    "#    with binary values (1: present, 0: not present)\n",
    "b1=np.where(tf>0,1,0)\n",
    "b1\n",
    "\n",
    "# 4. count document frequency of each word \n",
    "#    i.e. the number of documents that contain the word\n",
    "np.sum(b1,axis=0)\n",
    "\n",
    "# 5. Find the most frequent word in each document\n",
    "tf.argmax(axis=1)\n",
    "np.argsort(tf,axis=1)[:,-1]\n"
   ]
  },
  {
   "cell_type": "markdown",
   "metadata": {},
   "source": [
    "### 1.5. Broadcasting\n",
    "- Broadcasting is a powerful mechanism that allows numpy to work with arrays of different shapes when performing arithmetic operations\n",
    "- Frequently we have a smaller array and a larger array, and we want to use the smaller array multiple times to perform some operation on the larger array.\n",
    "- Example - Normalization:\n",
    "    - subtract each samples by mean vector\n",
    "    - divide each sample row by feature std vector (1-dimension array)  \n",
    "- It would be very inefficient to use a loop to achieve this given a large matrix\n"
   ]
  },
  {
   "cell_type": "code",
   "execution_count": 56,
   "metadata": {},
   "outputs": [
    {
     "data": {
      "text/plain": [
       "(10000, 4)"
      ]
     },
     "execution_count": 56,
     "metadata": {},
     "output_type": "execute_result"
    },
    {
     "data": {
      "text/plain": [
       "(4,)"
      ]
     },
     "execution_count": 56,
     "metadata": {},
     "output_type": "execute_result"
    },
    {
     "name": "stdout",
     "output_type": "stream",
     "text": [
      "1. 1st row before addition  [0.14675589 0.09233859 0.18626021 0.34556073]\n",
      "2. time used: 0.0306 ms\n",
      "3. 1st row after addition  [10.14675589  6.09233859  8.18626021  5.34556073]\n"
     ]
    }
   ],
   "source": [
    "# Exercise 1.5.1:  Successful broadcasting\n",
    "\n",
    "# Add the vector B to each row of A\n",
    "\n",
    "import time\n",
    "\n",
    "A = np.random.random((10000,4))\n",
    "B = np.array([10,6,8,5])\n",
    "A.shape\n",
    "B.shape\n",
    "print(\"1. 1st row before addition \", A[0])\n",
    "\n",
    "# By loop:\n",
    "start=time.time()   # get starting time\n",
    "for row in A:\n",
    "    row+=B\n",
    "print(\"2. time used: %.4f ms\"%(time.time()-start))\n",
    "\n",
    "print(\"3. 1st row after addition \", A[0])"
   ]
  },
  {
   "cell_type": "code",
   "execution_count": 57,
   "metadata": {},
   "outputs": [
    {
     "data": {
      "text/plain": [
       "(10000, 4)"
      ]
     },
     "execution_count": 57,
     "metadata": {},
     "output_type": "execute_result"
    },
    {
     "data": {
      "text/plain": [
       "(4,)"
      ]
     },
     "execution_count": 57,
     "metadata": {},
     "output_type": "execute_result"
    },
    {
     "name": "stdout",
     "output_type": "stream",
     "text": [
      "1. 1st row before addition  [0.14824068 0.00778736 0.83495657 0.43588383]\n",
      "2. time used: 0.0004 ms\n",
      "3. 1st row after addition  [10.14824068  6.00778736  8.83495657  5.43588383]\n"
     ]
    }
   ],
   "source": [
    "# By Broadcasting\n",
    "# Notice the time used is much smaller than the previous approach\n",
    "\n",
    "A = np.random.random((10000,4))\n",
    "B = np.array([10,6,8,5])\n",
    "A.shape\n",
    "B.shape\n",
    "print(\"1. 1st row before addition \", A[0])\n",
    "\n",
    "start=time.time()\n",
    "A = A + B\n",
    "print(\"2. time used: %.4f ms\"%(time.time()-start))\n",
    "\n",
    "print(\"3. 1st row after addition \", A[0])"
   ]
  },
  {
   "cell_type": "code",
   "execution_count": 95,
   "metadata": {},
   "outputs": [
    {
     "ename": "ValueError",
     "evalue": "operands could not be broadcast together with shapes (4,3) (4,) ",
     "output_type": "error",
     "traceback": [
      "\u001b[0;31m---------------------------------------------------------------------------\u001b[0m",
      "\u001b[0;31mValueError\u001b[0m                                Traceback (most recent call last)",
      "\u001b[0;32m<ipython-input-95-a51b439fe8f3>\u001b[0m in \u001b[0;36m<module>\u001b[0;34m\u001b[0m\n\u001b[1;32m      4\u001b[0m \u001b[0mA\u001b[0m \u001b[0;34m=\u001b[0m \u001b[0mnp\u001b[0m\u001b[0;34m.\u001b[0m\u001b[0marray\u001b[0m\u001b[0;34m(\u001b[0m\u001b[0;34m[\u001b[0m\u001b[0;34m[\u001b[0m\u001b[0;36m1\u001b[0m\u001b[0;34m,\u001b[0m\u001b[0;36m2\u001b[0m\u001b[0;34m,\u001b[0m\u001b[0;36m3\u001b[0m\u001b[0;34m]\u001b[0m\u001b[0;34m,\u001b[0m \u001b[0;34m[\u001b[0m\u001b[0;36m4\u001b[0m\u001b[0;34m,\u001b[0m\u001b[0;36m5\u001b[0m\u001b[0;34m,\u001b[0m\u001b[0;36m6\u001b[0m\u001b[0;34m]\u001b[0m\u001b[0;34m,\u001b[0m \u001b[0;34m[\u001b[0m\u001b[0;36m7\u001b[0m\u001b[0;34m,\u001b[0m\u001b[0;36m8\u001b[0m\u001b[0;34m,\u001b[0m\u001b[0;36m9\u001b[0m\u001b[0;34m]\u001b[0m\u001b[0;34m,\u001b[0m \u001b[0;34m[\u001b[0m\u001b[0;36m10\u001b[0m\u001b[0;34m,\u001b[0m \u001b[0;36m11\u001b[0m\u001b[0;34m,\u001b[0m \u001b[0;36m12\u001b[0m\u001b[0;34m]\u001b[0m\u001b[0;34m]\u001b[0m\u001b[0;34m)\u001b[0m\u001b[0;34m\u001b[0m\u001b[0;34m\u001b[0m\u001b[0m\n\u001b[1;32m      5\u001b[0m \u001b[0mB\u001b[0m \u001b[0;34m=\u001b[0m \u001b[0mnp\u001b[0m\u001b[0;34m.\u001b[0m\u001b[0marray\u001b[0m\u001b[0;34m(\u001b[0m\u001b[0;34m[\u001b[0m\u001b[0;36m1\u001b[0m\u001b[0;34m,\u001b[0m \u001b[0;36m0\u001b[0m\u001b[0;34m,\u001b[0m \u001b[0;36m1\u001b[0m\u001b[0;34m,\u001b[0m \u001b[0;36m4\u001b[0m\u001b[0;34m]\u001b[0m\u001b[0;34m)\u001b[0m\u001b[0;34m\u001b[0m\u001b[0;34m\u001b[0m\u001b[0m\n\u001b[0;32m----> 6\u001b[0;31m \u001b[0mZ\u001b[0m \u001b[0;34m=\u001b[0m \u001b[0mA\u001b[0m \u001b[0;34m+\u001b[0m \u001b[0mB\u001b[0m\u001b[0;34m\u001b[0m\u001b[0;34m\u001b[0m\u001b[0m\n\u001b[0m\u001b[1;32m      7\u001b[0m \u001b[0mprint\u001b[0m \u001b[0;34m(\u001b[0m\u001b[0mZ\u001b[0m\u001b[0;34m)\u001b[0m\u001b[0;34m\u001b[0m\u001b[0;34m\u001b[0m\u001b[0m\n",
      "\u001b[0;31mValueError\u001b[0m: operands could not be broadcast together with shapes (4,3) (4,) "
     ]
    }
   ],
   "source": [
    "# Exercise 1.5.2:  Failed broadcasting\n",
    "\n",
    "# Add a vector to each column of A\n",
    "A = np.array([[1,2,3], [4,5,6], [7,8,9], [10, 11, 12]])\n",
    "B = np.array([1, 0, 1, 4])\n",
    "Z = A + B\n",
    "print (Z)\n"
   ]
  },
  {
   "cell_type": "markdown",
   "metadata": {},
   "source": [
    "### 1.6. Broadcasting Rules:\n",
    "1. Assume two arrays A and B. \n",
    "   - <font color='blue'>For example, A has size(10000, 4), B has size (4,). A has rank 2, and B has rank 1</font>\n",
    "2. If the arrays do not have the same rank, prepend the shape of the lower rank array with 1s until both shapes have the same length.\n",
    "    - <font color='blue'>Padding 1 to the left of the shape of B. So B's shape becomes (1,4)</font>\n",
    "3. The two arrays are said to be **compatible** in a dimension **if they have the same size in the dimension, or if one of the arrays has size 1 in that dimension**. If compatible, continue to Step 4; otherwise stop and raise an error\n",
    "    \n",
    "    - Compare the shapes of A and B in each dimension: \n",
    "        * <font color='blue'>Dimension 1: A is 10000 and B is 1 => compatible </font>   \n",
    "        * <font color='blue'> Dimension 2: A is 4 and B is 4 => compatible</font> \n",
    "    - <font color='blue'> So, A and B are compatible in every dimension</font>\n",
    "4. After broadcasting, each array behaves as if it had shape equal to the elementwise maximum of shapes of the two input arrays.\n",
    "    - <font color='blue'> After brodcasting, B's shape => (10000,4)</font>\n",
    "5. In any dimension where one array had size 1 and the other array had size greater than 1, the first array behaves as if it were copied along that dimension\n",
    "    - <font color='blue'> Suppose B=([1, 0, 1]). After broadcasting, B => [ [1, 0, 1],[1, 0, 1],... ]</font>\n",
    "6. Apply array math using B after broadcasting"
   ]
  },
  {
   "cell_type": "code",
   "execution_count": 10,
   "metadata": {},
   "outputs": [
    {
     "data": {
      "text/plain": [
       "array([[ 1,  4,  7, 10],\n",
       "       [ 2,  5,  8, 11],\n",
       "       [ 3,  6,  9, 12]])"
      ]
     },
     "execution_count": 10,
     "metadata": {},
     "output_type": "execute_result"
    },
    {
     "data": {
      "text/plain": [
       "array([1, 0, 1, 4])"
      ]
     },
     "execution_count": 10,
     "metadata": {},
     "output_type": "execute_result"
    },
    {
     "data": {
      "text/plain": [
       "array([[ 2,  4,  8, 14],\n",
       "       [ 3,  5,  9, 15],\n",
       "       [ 4,  6, 10, 16]])"
      ]
     },
     "execution_count": 10,
     "metadata": {},
     "output_type": "execute_result"
    }
   ],
   "source": [
    "# Exercise 1.5.3:  revisit Exercise 1.5.3\n",
    "\n",
    "# Add a vector to each column of A\n",
    "A = np.array([[1,2,3], [4,5,6], [7,8,9], [10, 11, 12]])\n",
    "B = np.array([1, 0, 1, 4])\n",
    "A.T\n",
    "B\n",
    "\n",
    "# A's shape (4,3), B's shape (1,4)\n",
    "# It's incompatible with A at the 2nd dimension\n",
    "\n",
    "# However, after transpose A\n",
    "# they are compatible\n",
    "Z = A.T + B  \n",
    "Z\n"
   ]
  },
  {
   "cell_type": "markdown",
   "metadata": {},
   "source": [
    "## 2. Sparse Matrix\n",
    "- Why sparse matrix\n",
    "    * In some matrixes (e.g. document-term matrix), most of the elements are zero. These matrices are called **sparse matrices**, while the ones that have mostly non-zero elements are called **dense matrices**.\n",
    "    * These matrixes usually are very big. It needs memory to store every number\n",
    "- Sparse matrix: a matrix that **only stores non-zero elements**. \n",
    "- Scipy package provides different types of sparse matrix. Commonly used types:\n",
    "    * csc_matrix: Compressed Sparse Column format\n",
    "    * csr_matrix: Compressed Sparse Row format\n",
    "- Sparse matrixes can be manipulated almost in the same way as a dense matrix. Check https://docs.scipy.org/doc/scipy/reference/sparse.html for functions for sparse matrixes."
   ]
  },
  {
   "cell_type": "code",
   "execution_count": 69,
   "metadata": {},
   "outputs": [
    {
     "name": "stdout",
     "output_type": "stream",
     "text": [
      "1. \n",
      "   (0, 0)\t1\n",
      "  (1, 2)\t3\n",
      "  (2, 0)\t4\n",
      "  (2, 2)\t5\n",
      "2.  0\n"
     ]
    },
    {
     "data": {
      "text/plain": [
       "(3, 3)"
      ]
     },
     "execution_count": 69,
     "metadata": {},
     "output_type": "execute_result"
    }
   ],
   "source": [
    "# Exercise 2.1: Define a sparse matrix\n",
    "\n",
    "import numpy as np\n",
    "from scipy.sparse import csr_matrix\n",
    "A = csr_matrix([[1, 0, 0], [0, 0, 3], [4, 0, 5]])\n",
    "print(\"1. \\n\", A)\n",
    "print(\"2. \", A[2,1])\n",
    "A.shape"
   ]
  },
  {
   "cell_type": "code",
   "execution_count": 72,
   "metadata": {},
   "outputs": [
    {
     "data": {
      "text/plain": [
       "array([ 1, -3, -1], dtype=int64)"
      ]
     },
     "execution_count": 72,
     "metadata": {},
     "output_type": "execute_result"
    }
   ],
   "source": [
    "# Exercise 2.2: Sparse matrix math\n",
    "\n",
    "A = csr_matrix([[1, 0, 0], [0, 0, 3], [4, 0, 5]])\n",
    "v = np.array([1, 0, -1])\n",
    "A.dot(v)"
   ]
  },
  {
   "cell_type": "code",
   "execution_count": null,
   "metadata": {},
   "outputs": [],
   "source": []
  }
 ],
 "metadata": {
  "kernelspec": {
   "display_name": "Python 3",
   "language": "python",
   "name": "python3"
  },
  "language_info": {
   "codemirror_mode": {
    "name": "ipython",
    "version": 3
   },
   "file_extension": ".py",
   "mimetype": "text/x-python",
   "name": "python",
   "nbconvert_exporter": "python",
   "pygments_lexer": "ipython3",
   "version": "3.7.3 (default, Apr  7 2020, 14:06:47) \n[Clang 11.0.3 (clang-1103.0.32.59)]"
  },
  "vscode": {
   "interpreter": {
    "hash": "31f2aee4e71d21fbe5cf8b01ff0e069b9275f58929596ceb00d14d90e3e16cd6"
   }
  }
 },
 "nbformat": 4,
 "nbformat_minor": 2
}
