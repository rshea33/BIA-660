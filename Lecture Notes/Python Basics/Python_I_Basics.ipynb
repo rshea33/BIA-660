{
 "cells": [
  {
   "cell_type": "markdown",
   "metadata": {},
   "source": [
    "# <h1><center>Introduction to Python (I)</center></h1>\n",
    "\n",
    "\n",
    "Refereces:\n",
    "\n",
    "https://www.tutorialspoint.com/python"
   ]
  },
  {
   "cell_type": "markdown",
   "metadata": {},
   "source": [
    "# Standard Data Types: Number, String, List, Tuple, Dictionary, Iterator<br>"
   ]
  },
  {
   "cell_type": "markdown",
   "metadata": {},
   "source": [
    "## Numbers<br>\n",
    "- 3 different numerical types: int, float, complex\n",
    "- int: 10, 100, -123\n",
    "- float (floating point real values): 0.0, 15.20\n",
    "- complex: (complex numbers): 3.14j"
   ]
  },
  {
   "cell_type": "markdown",
   "metadata": {},
   "source": [
    "## Strings<br>\n",
    "- Strings are identified as a contiguous set of characters represented in the quotation marks\n",
    "- Substrings can be taken using slice operator [ ] with indexes starting at **0 in the beginning of the string ** and working their way from **-1 at the end **.\n",
    "- Strings can be concatenated using +\n",
    "- Useful string functions: <font color='blue'>strip, lstrip, rstrip, split, lower, upper, find, rfind, replace</font>"
   ]
  },
  {
   "cell_type": "code",
   "execution_count": 1,
   "metadata": {},
   "outputs": [
    {
     "name": "stdout",
     "output_type": "stream",
     "text": [
      "1.  Hello World!\n",
      "2.  H\n",
      "3.  llo\n",
      "4.  llo World!\n",
      "5.  !\n",
      "5.  ld!\n",
      "6.  HloWr\n",
      "7.  Hello World! TEST\n"
     ]
    }
   ],
   "source": [
    "# Strings \n",
    "# Important python index rules!\n",
    "\n",
    "s=''               # an empty string\n",
    "s = 'Hello World!'\n",
    "\n",
    "print(\"1. \", s)          # Prints complete string\n",
    "print(\"2. \", s[0])       # Prints first character of the string\n",
    "print(\"3. \", s[2:5])     # Prints characters starting from 3rd to 5th \n",
    "                         # the first index number is where the slice starts (inclusive)\n",
    "                         # the second index number is where the slice ends (exclusive))\n",
    "                         \n",
    "print(\"4. \", s[2:] )     # Prints string starting from 3rd character\n",
    "print(\"5. \", s[-1])      # Prints the last character \n",
    "\n",
    "# Question: how to get the last three characters?  \n",
    "print(\"5. \", s[-3:]) \n",
    "\n",
    "# step-wise slicing; \n",
    "print(\"6. \", s[0:10:2])   # extracting characters with \n",
    "                          # even indexes from the first 10 characters\n",
    "                          # [start:end:step] default is [0:length of the string:1]\n",
    "\n",
    "# concatenation\n",
    "print(\"7. \", s + \" TEST\") # Prints concatenated string\n"
   ]
  },
  {
   "cell_type": "code",
   "execution_count": 2,
   "metadata": {
    "scrolled": true
   },
   "outputs": [
    {
     "name": "stdout",
     "output_type": "stream",
     "text": [
      "1.  Welcome to Web Mining Class\n",
      "2.  Welcome to Web Mining Class   \n",
      "3.     Welcome to Web Mining Class\n",
      "4.  ['', '', '', 'Welcome', 'to', 'Web', 'Mining', 'Class', '', '', '']\n",
      "5.     welcome to web mining class   \n",
      "6.     WELCOME TO WEB MINING CLASS   \n",
      "7.  3\n",
      "8.  14\n",
      "9.     **elcome to **eb Mining Class   \n"
     ]
    }
   ],
   "source": [
    "\n",
    "s='   Welcome to Web Mining Class   '\n",
    "print (\"1. \", s.strip() )            # remove both leading and trailing spaces\n",
    "print (\"2. \", s.lstrip() )           # remove leading spaces\n",
    "print (\"3. \", s.rstrip()  )          # remove trailing spaces\n",
    "print (\"4. \", s.split(\" \"))          # split s by delimiter \" \" into a list\n",
    "print (\"5. \", s.lower())             # convert to lowercase\n",
    "print (\"6. \", s.upper())             # convert to uppercase\n",
    "print (\"7. \", s.find(\"W\"))           # get the index of the first \"W\" in s starting from the left; return -1 if \"W\" is not in s\n",
    "print (\"8. \", s.rfind(\"W\"))          # get the index of the first \"W\" in s starting from the right; return -1 if \"W\" is not in s\n",
    "print (\"9. \", s.replace(\"W\", \"**\"))  # replace all occurrences of \"W\" by \"**\""
   ]
  },
  {
   "cell_type": "code",
   "execution_count": 22,
   "metadata": {},
   "outputs": [
    {
     "name": "stdout",
     "output_type": "stream",
     "text": [
      "ipynb\n",
      "Python_I.ipynb\n"
     ]
    }
   ],
   "source": [
    "path=\"http://localhost:8888/notebooks/Python_I.ipynb\"\n",
    "\n",
    "# 1. Retrieve the last five characters of the path,  \n",
    "# i.e. ipynb\n",
    "print(path[-5:])\n",
    "\n",
    "# 2. retrieve the file name in the path, \n",
    "# i.e. the part after the last \"/\"\n",
    "\n",
    "print(path.split(\"/\")[-1])"
   ]
  },
  {
   "cell_type": "code",
   "execution_count": 4,
   "metadata": {},
   "outputs": [
    {
     "name": "stdout",
     "output_type": "stream",
     "text": [
      "I will now go to sleep and be away from keyboard until lunch time tomorrow.\n"
     ]
    }
   ],
   "source": [
    "marker = \"AFK\"\n",
    "replacement = \"away from keyboard\"\n",
    "line = \"I will now go to sleep and be AFK until lunch time tomorrow.\"\n",
    "start=line.find(marker)\n",
    "length = len(marker)\n",
    "replaced = line[:start] + replacement + line[start+length:]\n",
    "print(replaced)"
   ]
  },
  {
   "cell_type": "markdown",
   "metadata": {},
   "source": [
    "## Lists<br>\n",
    "- A list contains items separated by <font color=blue>commas (,)</font> and enclosed within <font color=blue>square brackets ([])</font>\n",
    "- Values in a list can be accessed using slice operator <font color=blue>[]</font> with indexes starting at **<font color=blue>0</font> for the first element ** and working their way from **<font color=blue>-1</font> at the end **.\n",
    "- Lists can be concatenated using <font color=blue>+</font>\n",
    "- A string is actually a list of characters without commas!\n",
    "- Items in a list can be of different data type (different from arrays in C)\n",
    "- Items in a list can be of any python data types, e.g. numbers, strings, lists, tuples, dictionaries\n",
    "- List functions: <font color=blue>append, remove</font>\n"
   ]
  },
  {
   "cell_type": "code",
   "execution_count": 26,
   "metadata": {
    "scrolled": true
   },
   "outputs": [
    {
     "name": "stdout",
     "output_type": "stream",
     "text": [
      "1.  ['welcome', 'to', 'my', 'class']\n",
      "2.  welcome\n",
      "3.  ['to', 'my']\n",
      "4.  ['my', 'class']\n",
      "5.  ['to', 'my', 'class']\n",
      "6.  welcome to my class\n",
      "7.  ['welcome', 'to', 'my', 'class', 'BIA-660', 'Web', 'Mining']\n",
      "8.  welcome to my class BIA-660 Web Mining\n"
     ]
    }
   ],
   "source": [
    "list1 = [ 'welcome', \"to\" , \"my\", 'class' ]\n",
    "list2 = ['BIA-660', 'Web', 'Mining']\n",
    "\n",
    "print (\"1. \", list1)          # Prints complete list\n",
    "print (\"2. \", list1[0])       # Prints first element of the list\n",
    "print (\"3. \", list1[1:3])     # Prints elements starting from 2nd till 3rd \n",
    "print (\"4. \", list1[2:])      # Prints elements starting from 3rd element\n",
    "print (\"5. \", list1[-3:])      # Prints the last three elements\n",
    "\n",
    "# concatenate elements in a list\n",
    "print (\"6. \", \" \".join(list1))# join elements into a single string with \" \" as the separator\n",
    "\n",
    "# concatenate lists\n",
    "print (\"7. \", list1 + list2)  # Prints concatenated lists\n",
    "\n",
    "print(\"8. \", \" \".join(list1 + list2))"
   ]
  },
  {
   "cell_type": "code",
   "execution_count": 27,
   "metadata": {
    "scrolled": true
   },
   "outputs": [
    {
     "name": "stdout",
     "output_type": "stream",
     "text": [
      "1.  range(0, 10)\n",
      "2.  [0, 1, 2, 3, 4, 5, 6, 7, 8, 9]\n",
      "3.  [1, 2, 3, 4, 5, 6, 7, 8, 9]\n",
      "4.  ['a', 'b', 'a', 'b', 'a', 'b']\n",
      "5.  ['a', 'b', 'a', 'b', 'a', 'b', 'c']\n",
      "6a.  ['a', 'b', 'a', 'b', 'a', 'b', 'c', 'c', 'd']\n",
      "6b.  ['a', 'b', 'a', 'b', 'a', 'b', 'c', 'c', 'd', ['c', 'd']]\n",
      "6c.  ['a', 'b', 'a', 'b', 'a', 'b', 'c', 'c', 'd', ['c', 'd'], 'c', 'd']\n",
      "7.  ['b', 'a', 'b', 'a', 'b', 'c', 'c', 'd', ['c', 'd']]\n"
     ]
    }
   ],
   "source": [
    "# Useful functions of lists\n",
    "\n",
    "list3=range(10)       # generate the numbers from 0 to 9; return an iterator\n",
    "print (\"1. \", list3)        # print a range object, an iterator\n",
    "print (\"2. \", list(list3))  # convert the iterator to a list\n",
    "\n",
    "list4=range(1,10)     # generate the numbers from 1 to 9\n",
    "print (\"3. \", list(list4))\n",
    "\n",
    "list5=['a','b']*3     # repeat list ['a','b'] three times\n",
    "print (\"4. \", list5)\n",
    "\n",
    "list5.append(\"c\")     # append \"c\" to the end of the list\n",
    "print (\"5. \", list5)\n",
    "\n",
    "# Notice the following difference\n",
    "list5.extend([\"c\",\"d\"])\n",
    "print (\"6a. \", list5)\n",
    "list5.append([\"c\",\"d\"])\n",
    "print (\"6b. \", list5)\n",
    "print (\"6c. \",list5+[\"c\",\"d\"])\n",
    "\n",
    "list5.remove(\"a\")     # remove the first \"a\" found in the list from the beginning\n",
    "print (\"7. \", list5)           "
   ]
  },
  {
   "cell_type": "code",
   "execution_count": 7,
   "metadata": {},
   "outputs": [
    {
     "name": "stdout",
     "output_type": "stream",
     "text": [
      "index of first 'a': 1\n",
      "count of 'a': 2\n"
     ]
    }
   ],
   "source": [
    "# question: how to remove all 'a'?\n",
    "# get index of the first occurrence of \"a\"  \n",
    "print (\"index of first 'a':\",list5.index(\"a\") )         \n",
    "\n",
    "# get count of \"a\" in the list\n",
    "print (\"count of 'a':\", list5.count(\"a\") )   "
   ]
  },
  {
   "cell_type": "code",
   "execution_count": 29,
   "metadata": {},
   "outputs": [
    {
     "name": "stdout",
     "output_type": "stream",
     "text": [
      "1.  [0, 1, 3, 4, 5]\n",
      "2.  [5, 4, 3, 1, 0]\n",
      "3. orignal list:  [1, 3, 5, 4, 0]\n",
      "4. after sort(): [0, 1, 3, 4, 5]\n",
      "[5, 4, 3, 1, 0]\n"
     ]
    }
   ],
   "source": [
    "# sort list\n",
    "list6=[1,3,5,4,0]\n",
    "print(\"1. \", sorted(list6))  # sort in ascending order\n",
    "print(\"2. \", sorted(list6, reverse=True))  # sort in decending order\n",
    "\n",
    "print(\"3. orignal list: \", list6) \n",
    "\n",
    "list6.sort()  #  modifies the list in-place and returns None\n",
    "print(\"4. after sort():\", list6)\n",
    "\n",
    "# Do you know any other way to sort in the decreasing order?\n",
    "print(list6[::-1])"
   ]
  },
  {
   "cell_type": "code",
   "execution_count": 32,
   "metadata": {},
   "outputs": [
    {
     "name": "stdout",
     "output_type": "stream",
     "text": [
      "660\n",
      "Web-Analytics\n"
     ]
    }
   ],
   "source": [
    "# List operations\n",
    "\n",
    "list2 = ['BIA-660', 'Web', 'Analytics']\n",
    "\n",
    "# 1:  How to extract \"660\" from list2\n",
    "\n",
    "print(list2[0][-3:])\n",
    "\n",
    "\n",
    "\n",
    "# 2: Join the last two elements in list2 \n",
    "#    into a string with \"-\" as the separator, \n",
    "#    i.e. 'Web-Analytics'\n",
    "\n",
    "print(\"-\".join(list2[1:]))\n",
    "\n"
   ]
  },
  {
   "cell_type": "markdown",
   "metadata": {},
   "source": [
    "## Tuples<br>\n",
    "- A tuple consists of a number of values separated by commas enclosed in <font color=blue>()</font> , e.g. ('welcome', \"to\" , \"BA\", 660)\n",
    "- A tuple is similar to a list in many aspects. However, they differ in the following:\n",
    "    - Tuples are enclosed within parentheses <font color=blue>()</font>, while lists are enclosed in <font color=blue>[]</font>.\n",
    "    - A tuple, once declared, <font color=blue>cannot be updated (read-only)</font>, while the elements and size of a list can be changed"
   ]
  },
  {
   "cell_type": "code",
   "execution_count": 10,
   "metadata": {},
   "outputs": [
    {
     "name": "stdout",
     "output_type": "stream",
     "text": [
      "1.  ('welcome', 'to', 'my', 'class')\n",
      "2.  welcome\n",
      "3.  ('to', 'my')\n",
      "4.  ('my', 'class')\n",
      "5.  ('welcome', 'to', 'my', 'class', 'BIA (Web Mining)', 660)\n"
     ]
    }
   ],
   "source": [
    "# tuples\n",
    "\n",
    "tuple1 = ( 'welcome', \"to\" , \"my\", 'class' )\n",
    "tuple2 = ('BIA (Web Mining)', 660)\n",
    "\n",
    "print (\"1. \", tuple1)          # Prints complete tuple\n",
    "print (\"2. \", tuple1[0])       # Prints first element of the tuple\n",
    "print (\"3. \", tuple1[1:3])     # Prints elements starting from 2nd till 3rd \n",
    "print (\"4. \", tuple1[2:])      # Prints elements starting from 3rd element\n",
    "print (\"5. \", tuple1 + tuple2)  # Prints concatenated tuples"
   ]
  },
  {
   "cell_type": "code",
   "execution_count": 11,
   "metadata": {
    "scrolled": true
   },
   "outputs": [
    {
     "ename": "TypeError",
     "evalue": "'tuple' object does not support item assignment",
     "output_type": "error",
     "traceback": [
      "\u001b[0;31m---------------------------------------------------------------------------\u001b[0m",
      "\u001b[0;31mTypeError\u001b[0m                                 Traceback (most recent call last)",
      "Cell \u001b[0;32mIn[11], line 11\u001b[0m\n\u001b[1;32m      8\u001b[0m list1[\u001b[39m0\u001b[39m]\u001b[39m=\u001b[39m\u001b[39m'\u001b[39m\u001b[39mWELCOME\u001b[39m\u001b[39m'\u001b[39m\n\u001b[1;32m     10\u001b[0m \u001b[39m# Be sure to understand why the line below is incorrect\u001b[39;00m\n\u001b[0;32m---> 11\u001b[0m tuple1[\u001b[39m0\u001b[39m]\u001b[39m=\u001b[39m\u001b[39m'\u001b[39m\u001b[39mWELCOME\u001b[39m\u001b[39m'\u001b[39m\n",
      "\u001b[0;31mTypeError\u001b[0m: 'tuple' object does not support item assignment"
     ]
    }
   ],
   "source": [
    "# Comparison between lists and tuples\n",
    "\n",
    "# list can be updated, while tuple is read only\n",
    "\n",
    "list1 = [ 'welcome', \"to\" , \"my\", 'class' ]\n",
    "tuple1 = ( 'welcome', \"to\" , \"my\", 'class' )\n",
    "\n",
    "list1[0]='WELCOME'\n",
    "\n",
    "# Be sure to understand why the line below is incorrect\n",
    "tuple1[0]='WELCOME'        # incorrect\n"
   ]
  },
  {
   "cell_type": "code",
   "execution_count": 12,
   "metadata": {},
   "outputs": [
    {
     "name": "stdout",
     "output_type": "stream",
     "text": [
      "<zip object at 0x7f8dee4b7d40>\n",
      "[(1, 'Mary'), (2, 'Tom'), (3, 'Joe'), (4, 'larry')]\n",
      "[(1, 2, 3, 4), ('Mary', 'Tom', 'Joe', 'larry')]\n"
     ]
    }
   ],
   "source": [
    "# Make a list of tuples out of two lists, \n",
    "# e.g. [(1,'Mary'),(2,'Tom'),(3, 'Joe')]\n",
    "\n",
    "ids=[1,2,3,4]\n",
    "names=['Mary','Tom','Joe',\"larry\"]\n",
    "\n",
    "# A efficient way: zip function - combine lists element-wise\n",
    "# zip function in python 3 returns an iterator\n",
    "# use list function to convert an iterator to list\n",
    "print(zip(ids, names))\n",
    "zipped=list(zip(ids, names))   \n",
    "print(zipped)\n",
    "\n",
    "# how to convert zipped back to unzipped?\n",
    "print(list(zip(*zipped)))"
   ]
  },
  {
   "cell_type": "markdown",
   "metadata": {},
   "source": [
    "## Dictionary<br>\n",
    "- A dictionary is similar to a lookup table with key-value pairs, e.g. {1:'Mary Joe', 2:'David Johnson'}\n",
    "- Keys are unique\n",
    "- A dictionary is enclosed by <font color=blue>curly braces {}</font>\n",
    "- Values can be assigned and accessed using square braces [].\n",
    "- Keys are usually <font color=blue>numbers or strings</font>, but values can be of any python data types, e.g. numbers, strings, lists, tuples, dictionaries"
   ]
  },
  {
   "cell_type": "code",
   "execution_count": 33,
   "metadata": {},
   "outputs": [
    {
     "name": "stdout",
     "output_type": "stream",
     "text": [
      "{'one': 'This is one', 2: 'This is two'}\n",
      "1.  This is one\n",
      "2.  This is two\n",
      "3.  {1: 'Mary Joe', 2: 'David Johnson'}\n",
      "4.  dict_keys([1, 2])\n",
      "5.  dict_values(['Mary Joe', 'David Johnson'])\n",
      "6.  [(1, 'Mary Joe'), (2, 'David Johnson')]\n"
     ]
    }
   ],
   "source": [
    "dict1 = {}                     # define an empty dictionary\n",
    "dict1['one'] = \"This is one\"   # add a key-value pair to the dictionary\n",
    "dict1[2]     = \"This is two\"\n",
    "print(dict1)\n",
    "print (\"1. \", dict1['one'])       # Prints value for 'one' key\n",
    "print (\"2. \", dict1[2])           # Prints value for 2 key\n",
    "\n",
    "dict2 = {1:'Mary Joe', 2:'David Johnson'}  # a more compact way to define a dictionary\n",
    "print (\"3. \", dict2)              # Prints complete dictionary\n",
    "print (\"4. \", dict2.keys())       # Prints all the keys\n",
    "print (\"5. \", dict2.values())     # Prints all the values\n",
    "print (\"6. \", list(dict2.items()) ) # print key-value pair as a list of tuples"
   ]
  },
  {
   "cell_type": "markdown",
   "metadata": {},
   "source": [
    "## Iterator<br>\n",
    "- An iterator is simply an object that can be iterated upon. An iterator will return data, one element at a time.\n",
    "- - An iterator must implement two special methods, iter and next.\n",
    "- An object is called iterable if we can get an iterator from it. Iterable objects include lists, tuples, strings, dictionaries etc. The iter() function returns an iterator from an iterable object.\n",
    "- An iterator object can be used only once. When we reach the end and there is no more data to be returned, it will raise the error StopIteration."
   ]
  },
  {
   "cell_type": "code",
   "execution_count": 14,
   "metadata": {},
   "outputs": [
    {
     "name": "stdout",
     "output_type": "stream",
     "text": [
      "1.  <list_iterator object at 0x7f8dee453520>\n",
      "2.  [4, 7, 0, 3]\n"
     ]
    }
   ],
   "source": [
    "# iterables\n",
    "\n",
    "# define a list\n",
    "my_list = [4, 7, 0, 3]\n",
    "\n",
    "# get an iterator using iter()\n",
    "my_iter = iter(my_list)\n",
    "print(\"1. \", my_iter)\n",
    "\n",
    "# similarly, you can convert the iterator object back to a list\n",
    "print(\"2. \", list(my_iter))"
   ]
  },
  {
   "cell_type": "code",
   "execution_count": 15,
   "metadata": {
    "scrolled": false
   },
   "outputs": [
    {
     "name": "stdout",
     "output_type": "stream",
     "text": [
      "1.  4\n",
      "2.  7\n",
      "3. \n",
      "0\n",
      "3\n"
     ]
    },
    {
     "ename": "StopIteration",
     "evalue": "",
     "output_type": "error",
     "traceback": [
      "\u001b[0;31m---------------------------------------------------------------------------\u001b[0m",
      "\u001b[0;31mStopIteration\u001b[0m                             Traceback (most recent call last)",
      "Cell \u001b[0;32mIn[15], line 16\u001b[0m\n\u001b[1;32m     13\u001b[0m     \u001b[39mprint\u001b[39m (item)\n\u001b[1;32m     15\u001b[0m \u001b[39m# raise StopIteration error if call next again since the for loop has reached the end of the iterator object\u001b[39;00m\n\u001b[0;32m---> 16\u001b[0m \u001b[39mprint\u001b[39m(\u001b[39m\"\u001b[39m\u001b[39m4. \u001b[39m\u001b[39m\"\u001b[39m, \u001b[39mnext\u001b[39;49m(my_iter))\n",
      "\u001b[0;31mStopIteration\u001b[0m: "
     ]
    }
   ],
   "source": [
    "## iterate through an iterable using next() \n",
    "my_iter = iter(my_list)\n",
    "\n",
    "#prints 4\n",
    "print(\"1. \", next(my_iter))\n",
    "\n",
    "#prints 7\n",
    "print(\"2. \", next(my_iter))\n",
    "\n",
    "# loop through all remaining elements\n",
    "print(\"3. \")\n",
    "for item in my_iter:\n",
    "    print (item)\n",
    "    \n",
    "# raise StopIteration error if call next again since the for loop has reached the end of the iterator object\n",
    "print(\"4. \", next(my_iter))\n"
   ]
  },
  {
   "cell_type": "markdown",
   "metadata": {},
   "source": [
    "## Data Type Coversion<br>\n",
    "<table>\n",
    "  <thead>\n",
    "    <tr>\n",
    "      <th>Function</th>\n",
    "      <th>Description</th>\n",
    "    </tr>\n",
    "  </thead>\n",
    "  <tbody>\n",
    "    <tr>\n",
    "      <td>int(x)</td>\n",
    "      <td>Converts string x to integer</td>\n",
    "    </tr>\n",
    "    <tr>\n",
    "      <td>float(x)</td>\n",
    "      <td>Converts string x to a floating-point number</td>\n",
    "    </tr>\n",
    "    <tr>\n",
    "      <td>str(x)</td>\n",
    "      <td>Converts object x to a string</td>\n",
    "    </tr>\n",
    "    <tr>\n",
    "      <td>list(x)</td>\n",
    "      <td>Converts sequence x (e.g. tuple, string, set, or dictionary) to a list</td>\n",
    "    </tr>\n",
    "    <tr>\n",
    "      <td>tuple(x)</td>\n",
    "      <td>Converts sequence x (e.g. list, string, set, or dictionary) to a tuple</td>\n",
    "    </tr>\n",
    "    <tr>\n",
    "      <td>dict(x)</td>\n",
    "      <td>Creates a dictionary using x, which must be a sequence of (key,value) pair</td>\n",
    "    </tr>\n",
    "    <tr>\n",
    "      <td>set(x)</td>\n",
    "      <td>Converts sequence x to a set, an unordered collections of unique elements\n",
    "    </td>\n",
    "    </tr>\n",
    "  </tbody>\n",
    "</table>"
   ]
  },
  {
   "cell_type": "code",
   "execution_count": 34,
   "metadata": {},
   "outputs": [
    {
     "name": "stdout",
     "output_type": "stream",
     "text": [
      "1. z1=int(x)+int(y) : 369\n",
      "2. z2=float(x)+float(y) : 369.0\n",
      "3. z3=string of z1 : 369\n",
      "4. z4=list(x+y) : ['1', '2', '3', '2', '4', '6']\n",
      "5. z5=tuple(x+y) : ('1', '2', '3', '2', '4', '6')\n",
      "6. z6=dict(xy) : {'x': '123', 'y': '246'}\n",
      "7. z7=set(z4) : ['6', '2', '1', '3', '4']\n"
     ]
    }
   ],
   "source": [
    "# data conversion\n",
    "\n",
    "x='123'\n",
    "y='246'\n",
    "\n",
    "z1=int(x)+int(y)                       # convert x and y to integers and add them up\n",
    "print (\"1. z1=int(x)+int(y) : \",z1, sep = \"\")\n",
    "\n",
    "z2=float(x)+float(y)                   # convert x and y to floats and add them up\n",
    "print (\"2. z2=float(x)+float(y) : \" ,z2, sep = \"\")\n",
    "\n",
    "z3=str(z1)                             # convert z1 to string\n",
    "print (\"3. z3=string of z1 : \",z3, sep = \"\")\n",
    "\n",
    "z4=list(x+y)                            # convert x+y, a string to a list\n",
    "print (\"4. z4=list(x+y) : \" ,z4, sep = \"\")\n",
    "\n",
    "z5=tuple(x+y)                           # convert x+y, a string to a tuple\n",
    "print (\"5. z5=tuple(x+y) : \" ,z5, sep = \"\")\n",
    "\n",
    "xy=[('x',x),('y',y)]\n",
    "\n",
    "z6=dict(xy)                            # convert a list of tuples to a dictionary\n",
    "print (\"6. z6=dict(xy) : \" ,z6, sep = \"\")\n",
    "\n",
    "z7=set(z4)                            #### convert a list to a set (unique and unordered elements)\n",
    "print (\"7. z7=set(z4) : \" ,list(z7), sep = \"\")"
   ]
  },
  {
   "cell_type": "code",
   "execution_count": 17,
   "metadata": {},
   "outputs": [
    {
     "name": "stdout",
     "output_type": "stream",
     "text": [
      "1.  ['abc', 'xyz']\n",
      "2.  abcxyz\n"
     ]
    }
   ],
   "source": [
    "list1=['abc','xyz']   # how to get a single string 'abcxyz'?\n",
    "x=str(list1)\n",
    "print(\"1. \", x)\n",
    "print(\"2. \", ''.join(list1))"
   ]
  },
  {
   "cell_type": "markdown",
   "metadata": {},
   "source": [
    "## Operators<br>"
   ]
  },
  {
   "cell_type": "code",
   "execution_count": 36,
   "metadata": {},
   "outputs": [
    {
     "name": "stdout",
     "output_type": "stream",
     "text": [
      "a+b = 9\n",
      "a-b = -5\n",
      "a*b = 14\n",
      "b/a =  3.5\n",
      "b%a =  1\n",
      "b//a =  3\n",
      "b**a =  49\n",
      "after a+=b, a =  9\n",
      "after a*=b, a =  63\n"
     ]
    }
   ],
   "source": [
    "# basic operators\n",
    "a, b = 2, 7\n",
    "print(f\"{a+b = }\")             # addition/concatenation\n",
    "print(f\"{a-b = }\")            # subtraction\n",
    "print(f\"{a*b = }\")            # multiplication\n",
    "\n",
    "# division. Notice that a,b are integers \n",
    "# in python2, b/a is also an integer\n",
    "# in python3, b/a is a float\n",
    "print (\"b/a = \", b/a )    \n",
    "\n",
    "# modulus, returns remainder\n",
    "print (\"b%a = \", b%a)    \n",
    "# floor division, return quotient which is floored\n",
    "print (\"b//a = \", b//a )     \n",
    "# exponent\n",
    "print (\"b**a = \", b**a )          \n",
    "\n",
    "# concise assignment \n",
    "a+=b\n",
    "# a+=b is equivalent to a = a + b.\n",
    "print (\"after a+=b, a = \", a)       \n",
    "\n",
    "a*=b\n",
    "# a*=b is equivalent to a= a*b. \n",
    "print (\"after a*=b, a = \",a)     \n",
    "# This concise assignment operator can be applied to \n",
    "# other basic operators"
   ]
  },
  {
   "cell_type": "code",
   "execution_count": 19,
   "metadata": {},
   "outputs": [
    {
     "name": "stdout",
     "output_type": "stream",
     "text": [
      "a==b ? False\n",
      "a!=b ? True\n",
      "a>b ? False\n",
      "a<b ? True\n",
      "a>=b ? False\n",
      "a<=b ? True\n"
     ]
    }
   ],
   "source": [
    "# comparison operators\n",
    "\n",
    "a, b = 2,7\n",
    "\n",
    "print (\"a==b ?\", a==b)          # equal\n",
    "print (\"a!=b ?\", a!=b )         # not Equal\n",
    "print (\"a>b ?\",a>b)             # greater than\n",
    "print (\"a<b ?\",a<b )                 # less than\n",
    "print (\"a>=b ?\",a>=b)                 # greater than or equal\n",
    "print (\"a<=b ?\",a<=b)                # less than or equal"
   ]
  },
  {
   "cell_type": "code",
   "execution_count": 20,
   "metadata": {},
   "outputs": [
    {
     "name": "stdout",
     "output_type": "stream",
     "text": [
      "a in c ?  True\n",
      "b not in c ?  True\n",
      "020 is a key of dict1  False\n",
      "May is a value of dict1  True\n",
      "020 is not a key of dict1  True\n"
     ]
    }
   ],
   "source": [
    "# comparison operators\n",
    "a, b, c=2,7, [1,2,3]\n",
    "\n",
    "# test if a is in list c\n",
    "print (\"a in c ? \",a in c) \n",
    "\n",
    "# test if b is not in list c\n",
    "print (\"b not in c ? \",b not in c)     \n",
    "\n",
    "# test if a key is in dictionary dict1\n",
    "dict1={\"105\":\"Mary\", \"010\":\"Joe\",\"030\":\"Tom\"}\n",
    "\n",
    "print(\"020 is a key of dict1 \", \"020\" in dict1)\n",
    "print(\"May is a value of dict1 \", \"Mary\" in dict1.values())\n",
    "print(\"020 is not a key of dict1 \", \"020\" not in dict1)\n",
    "\n",
    "# Note that you can directly use **dict1**. \n",
    "# You can also use **dict1.keys()** "
   ]
  },
  {
   "cell_type": "code",
   "execution_count": 21,
   "metadata": {},
   "outputs": [
    {
     "name": "stdout",
     "output_type": "stream",
     "text": [
      "(a>b) and (a in c) ? False\n",
      "(a>b) or (a in c) ? True\n",
      "not (a>b) ? True\n"
     ]
    }
   ],
   "source": [
    "# logical operators\n",
    "\n",
    "a, b, c=2,7, [1,2,3]\n",
    "# both conditions are true\n",
    "print (\"(a>b) and (a in c) ?\",(a>b) and (a in c))     \n",
    "# either condition is true\n",
    "print (\"(a>b) or (a in c) ?\",(a>b) or (a in c))\n",
    "# reverse the condition\n",
    "print (\"not (a>b) ?\",not (a>b) )                    "
   ]
  }
 ],
 "metadata": {
  "kernelspec": {
   "display_name": "webmining",
   "language": "python",
   "name": "python3"
  },
  "language_info": {
   "codemirror_mode": {
    "name": "ipython",
    "version": 3
   },
   "file_extension": ".py",
   "mimetype": "text/x-python",
   "name": "python",
   "nbconvert_exporter": "python",
   "pygments_lexer": "ipython3",
   "version": "3.10.9"
  },
  "vscode": {
   "interpreter": {
    "hash": "99b5616b0d23c29fa8c98fa09e8820275d6dd380a4ae57fe7d1c6e838b8c9c1f"
   }
  }
 },
 "nbformat": 4,
 "nbformat_minor": 2
}
