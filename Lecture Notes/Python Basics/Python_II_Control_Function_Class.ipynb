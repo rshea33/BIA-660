{
 "cells": [
  {
   "cell_type": "markdown",
   "metadata": {},
   "source": [
    "# <center>Introduction to Python (II)</center>\n",
    "\n",
    "Refereces: \n",
    "- https://www.tutorialspoint.com/python"
   ]
  },
  {
   "cell_type": "markdown",
   "metadata": {},
   "source": [
    "## Control Flows"
   ]
  },
  {
   "cell_type": "markdown",
   "metadata": {},
   "source": [
    "### if and if...else, if...elif...else statements"
   ]
  },
  {
   "cell_type": "code",
   "execution_count": 3,
   "metadata": {},
   "outputs": [
    {
     "name": "stdout",
     "output_type": "stream",
     "text": [
      "the value of x >= 50\n",
      "done!\n",
      "the value of x < 200\n",
      "the value of x >= 50 and <200\n",
      "the value of x >= 200 and x<y\n"
     ]
    }
   ],
   "source": [
    "# if and if...else, if...elif...else statements\n",
    "\n",
    "x=100\n",
    "\n",
    "# simple if statement\n",
    "# each control line must end with colon (:) \n",
    "if x>=50:   \n",
    "    # each line in the block should be \n",
    "    # indented with the same amount                                  \n",
    "    print (\"the value of x >= 50\")   \n",
    "    print(\"done!\")\n",
    "\n",
    "# if...else statement\n",
    "if x>=200:\n",
    "    print (\"the value of x >= 200\")\n",
    "else:\n",
    "    print (\"the value of x < 200\")\n",
    "\n",
    "# if...elif...else statement\n",
    "# The elif statement allows you to check multiple expressions for TRUE \n",
    "# and execute a block of code as soon as one of the conditions evaluates to TRUE.\n",
    "if x>=200:\n",
    "    print (\"the value of x >= 200\")\n",
    "elif x>=50:\n",
    "    print (\"the value of x >= 50 and <200\")\n",
    "else:\n",
    "    print (\"the value of x < 50\")\n",
    "    \n",
    "# nested statements\n",
    "x=300\n",
    "y=500\n",
    "if x>=200:\n",
    "    \n",
    "    # inner \"if\" and \"else\" need to indent the same amount\n",
    "    if x>=y:                                                 \n",
    "        print (\"the value of x >= 200 and x>=y\")\n",
    "    else:\n",
    "        print (\"the value of x >= 200 and x<y\")\n",
    "else:\n",
    "    print (\"the value of x < 200\")"
   ]
  },
  {
   "cell_type": "code",
   "execution_count": 4,
   "metadata": {},
   "outputs": [
    {
     "name": "stdout",
     "output_type": "stream",
     "text": [
      "{'python': 2, 'block': 3, 'indent': 5}\n"
     ]
    }
   ],
   "source": [
    "# use \"if...else...\" add new entries to a dictionary\n",
    "\n",
    "word_count_dict={\"python\" : 1, \"block\" : 3, \"indent\" : 5}\n",
    "new_word=\"python\"\n",
    "\n",
    "# if new_word is a key of word_count_dict,\n",
    "# increase this word's count by 1;\n",
    "# otherwise, add a new key in word_count_dict, and\n",
    "# set the value of this new key to 1\n",
    "\n",
    "if new_word in word_count_dict:\n",
    "    word_count_dict[new_word] +=1\n",
    "else: \n",
    "    word_count_dict[new_word] = 1\n",
    "print(word_count_dict)"
   ]
  },
  {
   "cell_type": "markdown",
   "metadata": {},
   "source": [
    "### Loop statements: while, for"
   ]
  },
  {
   "cell_type": "code",
   "execution_count": 4,
   "metadata": {},
   "outputs": [
    {
     "name": "stdout",
     "output_type": "stream",
     "text": [
      "1\n",
      "2\n",
      "3\n",
      "4\n"
     ]
    }
   ],
   "source": [
    "# simple while loop\n",
    "\n",
    "x=1\n",
    "# in each round, the condition following 'while' is evaluated       \n",
    "while x<5:    \n",
    "    # continue the block if the conidtion is true\n",
    "    print (x)           \n",
    "    x+=1\n",
    "    "
   ]
  },
  {
   "cell_type": "code",
   "execution_count": 3,
   "metadata": {},
   "outputs": [
    {
     "name": "stdout",
     "output_type": "stream",
     "text": [
      "1.  [1, 4, 9, 16, 25]\n",
      "2. Square of each element in [1:6]: [1, 4, 9, 16, 25]\n"
     ]
    }
   ],
   "source": [
    "# for loop through a list\n",
    "\n",
    "# initiate an empty list\n",
    "list1=[]  \n",
    "\n",
    "# loop through any iterable object, e.g. \n",
    "# list, tuple, set, dictionary\n",
    "for x in range(1,6):    \n",
    "    # append x**2 to the list\n",
    "    list1.append(x**2)  \n",
    "print (\"1. \", list1)\n",
    "    \n",
    "# A compact way to use for loop in assigment\n",
    "list1=[x**2 for x in range(1,6)]\n",
    "print (\"2. Square of each element in [1:6]:\", list1)\n"
   ]
  },
  {
   "cell_type": "code",
   "execution_count": 5,
   "metadata": {},
   "outputs": [
    {
     "name": "stdout",
     "output_type": "stream",
     "text": [
      "0 apple\n",
      "1 banana\n",
      "2 grapes\n",
      "3 pear\n",
      "1.  [(0, 'apple'), (1, 'banana'), (2, 'grapes'), (3, 'pear')]\n",
      "1a.  [(0, 'apple'), (1, 'banana'), (2, 'grapes'), (3, 'pear')]\n",
      "1b [(1, 'apple'), (2, 'banana'), (3, 'grapes'), (4, 'pear')]\n"
     ]
    }
   ],
   "source": [
    "# Get index of each element during loop\n",
    "\n",
    "# enumerate(list1) converts a sequence to an iterator which returns a tuple at a time\n",
    "# starting from (0, list1[0]), (1, list1[1]), ... to the end\n",
    "# where 0,1, .. is the index if each element in list1\n",
    "\n",
    "list1 = ['apple', 'banana', 'grapes', 'pear']\n",
    "for idx, x in enumerate(list1):\n",
    "    print(idx, x)\n",
    "\n",
    "list2 = [(idx,x) for idx,x in enumerate(list1) ]  \n",
    "print(\"1. \", list2)\n",
    "\n",
    "list2=[(item[0], item[1]) for item in enumerate(list1) ]  \n",
    "print(\"1a. \", list2)\n",
    "\n",
    "# Questions: \n",
    "# 1. how to show indexes starting from 1, not 0?\n",
    "print(\"1b\",[(idx+1,x) for idx,x in enumerate(list1) ] )"
   ]
  },
  {
   "cell_type": "code",
   "execution_count": 2,
   "metadata": {},
   "outputs": [
    {
     "name": "stdout",
     "output_type": "stream",
     "text": [
      "Get each **positive** element and its index in the list as a list of tuple: \n",
      "[(1, 5), (3, 3), (5, 12), (6, 1), (7, 8)]\n",
      "list4 = [3, -4, 12, 1, 8]\n"
     ]
    }
   ],
   "source": [
    "# Combine for loop with if statement\n",
    "\n",
    "# get positive numbers and their indexes\n",
    "list3=[(idx,x) for idx,x in enumerate([-2,5,-9,3,-4,12,1,8]) \\\n",
    "       if x>0]\n",
    "\n",
    "print(\"Get each **positive** element and its index \\\n",
    "in the list as a list of tuple: \")\n",
    "print (list3)\n",
    "\n",
    "# Questions:\n",
    "# 1. how to get elements if their indexs > 2 ; \n",
    "# 2. how to get elements with even indexes?\n",
    "\n",
    "list4=[x for idx,x in enumerate([-2,5,-9,3,-4,12,1,8]) \\\n",
    "       if idx>2]\n",
    "print(f\"{list4 = }\")\n",
    "\n"
   ]
  },
  {
   "cell_type": "code",
   "execution_count": 10,
   "metadata": {},
   "outputs": [
    {
     "name": "stdout",
     "output_type": "stream",
     "text": [
      "[0, 3, 5]\n",
      "['b', 'c', 'd']\n"
     ]
    }
   ],
   "source": [
    "# Exercise: Find the index of a repeated value\n",
    "\n",
    "list1=['a','b','c','a','d','a']\n",
    "\n",
    "# task 1: find the indexes of all \"a\"\n",
    "\n",
    "list_idx=[idx for idx,x in enumerate(list1) \\\n",
    "       if x==\"a\"]\n",
    "print(list_idx)\n",
    "\n",
    "# task 2: remove all \"a\" from list1\n",
    "#         hint: you can create a new list to \n",
    "#         hold all values without \"a\"\n",
    "\n",
    "list_x=[x for idx,x in enumerate(list1) \\\n",
    "       if x!=\"a\"]\n",
    "print(list_x)"
   ]
  },
  {
   "cell_type": "code",
   "execution_count": 5,
   "metadata": {},
   "outputs": [
    {
     "name": "stdout",
     "output_type": "stream",
     "text": [
      "1.  [1, 2, 5, 4, 3]\n",
      "1.  ['c', 'b', 'a', 'd', 'e']\n",
      "1.  [(1, 'c'), (2, 'b'), (5, 'a'), (4, 'd'), (3, 'e')]\n",
      "\n",
      "2.  Get the keys in the dictionary as a list\n",
      "[1, 2, 5, 4, 3]\n",
      "\n",
      "3.  Get the values in the dictionary as a list\n",
      "['c', 'b', 'a', 'd', 'e']\n",
      "[(5, 'a'), (4, 'd'), (3, 'e'), (2, 'b'), (1, 'c')]\n",
      "[(5, 'a'), (4, 'd'), (3, 'e'), (2, 'b'), (1, 'c')]\n"
     ]
    }
   ],
   "source": [
    "# loop through a dictionary\n",
    "\n",
    "dict1={1: 'c', 2:\"b\", 5:\"a\", 4:\"d\", 3:\"e\"}\n",
    "\n",
    "print(\"1. \", list(dict1.keys()))\n",
    "print(\"1. \", list(dict1.values()))\n",
    "print(\"1. \", list(dict1.items()))\n",
    "\n",
    "keys=[x for x in dict1]                             \n",
    "# loop through each key of a dictionary\n",
    "# This is equivalent to dict1.keys()\n",
    "print(\"\\n2. \",\"Get the keys in the dictionary as a list\")\n",
    "print (keys)\n",
    "\n",
    "print(\"\\n3. \",\"Get the values in the dictionary as a list\")\n",
    "values=[dict1[x] for x in dict1]                     \n",
    "# loop through each key and then get the value through key\n",
    "# this is equivalent to dict1.values()\n",
    "print (values)\n",
    "\n",
    "# Question: how to sort items by key?\n",
    "print(sorted(dict1.items(), reverse=True))\n",
    "print(sorted(dict1.items(), key=lambda item: -item[0]))\n",
    "\n"
   ]
  },
  {
   "cell_type": "code",
   "execution_count": 6,
   "metadata": {},
   "outputs": [
    {
     "name": "stdout",
     "output_type": "stream",
     "text": [
      "{4: 3, 3: 3, 2: 1}\n"
     ]
    },
    {
     "data": {
      "text/plain": [
       "{2: 1, 3: 3, 4: 3}"
      ]
     },
     "execution_count": 6,
     "metadata": {},
     "output_type": "execute_result"
    }
   ],
   "source": [
    "# Use loop to create a dictionary\n",
    "\n",
    "list1=[4,3,2,3,4,3,4]\n",
    "\n",
    "# question:\n",
    "# get the count of each number as a dictionary\n",
    "dict1={}\n",
    "for x in list1:\n",
    "    if x in dict1:\n",
    "        dict1[x]+=1\n",
    "    else:\n",
    "        dict1[x]=1\n",
    "\n",
    "print(dict1)\n",
    "\n",
    "\n",
    "# any compact way to achieve this?\n",
    "{x : list1.count(x) for x in set(list1)}\n"
   ]
  },
  {
   "cell_type": "code",
   "execution_count": 16,
   "metadata": {},
   "outputs": [
    {
     "name": "stdout",
     "output_type": "stream",
     "text": [
      "\n",
      "1. nested loops: \n",
      "1.2\n",
      "3.5\n",
      "2.4\n",
      "7.0\n",
      "2.  [1.2, 3.5, 2.4, 7.0]\n"
     ]
    }
   ],
   "source": [
    "# Nested loops\n",
    "\n",
    "print(\"\\n1. nested loops: \")\n",
    "for x in range(1,3):    \n",
    "    for y in [1.2, 3.5]:\n",
    "        print (x*y)\n",
    "\n",
    "# a compact way to nest loops\n",
    "xy=[x*y for x in range(1,3) for y in [1.2, 3.5]]    \n",
    "\n",
    "print (\"2. \", xy)\n"
   ]
  },
  {
   "cell_type": "markdown",
   "metadata": {},
   "source": [
    "### Loop Control Statements\n",
    "- break: terminates the loop and executes the statement immediately following the loop\n",
    "- continue: causes the loop to skip the rest of its body and immediately starts another round"
   ]
  },
  {
   "cell_type": "code",
   "execution_count": 8,
   "metadata": {},
   "outputs": [
    {
     "name": "stdout",
     "output_type": "stream",
     "text": [
      "1.  [1, 4, 9, 16, 25]\n",
      "2.  [1, 4, 9, 16]\n"
     ]
    }
   ],
   "source": [
    "# break control\n",
    "\n",
    "list1=[]   \n",
    "list2=[]\n",
    "for x in range(1,8):  \n",
    "    list1.append(x**2)\n",
    "    # break if x**2 is greater than 20\n",
    "    if x**2>20:                 \n",
    "        break\n",
    "    list2.append(x**2)  \n",
    "\n",
    "# list1 has 25 (i.e. x=5) appended before the break\n",
    "print (\"1. \", list1)           \n",
    "\n",
    "# list2 does not have 25 since \"break\" happened before \"append\"\n",
    "print (\"2. \", list2)                    "
   ]
  },
  {
   "cell_type": "code",
   "execution_count": 5,
   "metadata": {},
   "outputs": [
    {
     "name": "stdout",
     "output_type": "stream",
     "text": [
      "1.  [1, 4, 9, 16, 25, 2, 5, 10, 17, 26]\n",
      "2.  [1, 4, 9, 16, 2, 5, 10, 17]\n",
      "2.  [0, 1]\n"
     ]
    }
   ],
   "source": [
    "# break in nested loops\n",
    "list1=[]   \n",
    "list2=[]\n",
    "list3=[]\n",
    "for y in range(2):\n",
    "    list3.append(y)\n",
    "    for x in range(1,8):  \n",
    "        list1.append(x**2+y)\n",
    "        if x**2>20:                 \n",
    "            break\n",
    "        list2.append(x**2+y)  \n",
    "    \n",
    "print (\"1. \", list1)           \n",
    "print (\"2. \", list2)  \n",
    "print (\"2. \", list3)   "
   ]
  },
  {
   "cell_type": "code",
   "execution_count": 17,
   "metadata": {},
   "outputs": [
    {
     "name": "stdout",
     "output_type": "stream",
     "text": [
      "14\n"
     ]
    }
   ],
   "source": [
    "# Exercise: break if you get the value you need\n",
    "\n",
    "# Create a number series starting from 1, e.g. 1,2,3,..., 100\n",
    "# Fetch each number until the sum of all \n",
    "# the numbers you have reaches 100 (i.e. >=100).\n",
    "\n",
    "\n",
    "list1=[]\n",
    "for x in range(1,100):\n",
    "    list1.append(x)\n",
    "    if sum(list1)>=100:\n",
    "        break\n",
    "print(len(list1))  "
   ]
  },
  {
   "cell_type": "code",
   "execution_count": 16,
   "metadata": {},
   "outputs": [
    {
     "name": "stdout",
     "output_type": "stream",
     "text": [
      "1.  [1, 4, 9, 16, 25, 36, 49]\n",
      "2.  [1, 4, 9, 16]\n"
     ]
    }
   ],
   "source": [
    "# continue control\n",
    "\n",
    "list1=[]   \n",
    "list2=[]\n",
    "for x in range(1,8):  \n",
    "    list1.append(x**2)\n",
    "    # break if x**2 is greater than 20\n",
    "    if x**2>20:                  \n",
    "        continue\n",
    "    list2.append(x**2)  \n",
    "    \n",
    "# list1 has all 7 elements appended \n",
    "print (\"1. \", list1)   \n",
    "# list2 stopped growing before x=5 since \n",
    "# \"continue\" happened before \"append\"\n",
    "print (\"2. \", list2)                    \n"
   ]
  },
  {
   "cell_type": "markdown",
   "metadata": {},
   "source": [
    "## Function\n",
    "- A block of code that can be reused\n",
    "- Function blocks begin with the keyword def followed by the function name\n",
    "- Input parameters or arguments should be placed within parentheses ( ).\n",
    "- A default argument is an argument that assumes a default value if a value is not provided in the function call for that argument.\n",
    "- The code block starts with a colon (:) and is indented.\n",
    "- The statement return exits a function. A return statement with no arguments is the same as return None."
   ]
  },
  {
   "cell_type": "code",
   "execution_count": 39,
   "metadata": {},
   "outputs": [
    {
     "name": "stdout",
     "output_type": "stream",
     "text": [
      "1.  32.22222222222222\n",
      "2.  68.0\n",
      "3.  [32.0, 77.0, 86.0]\n"
     ]
    }
   ],
   "source": [
    "# Define a simple function  \n",
    "\n",
    "# define a converter between Fahrenheit and Celsius\n",
    "# t: the input temperature\n",
    "# F_or_C: whether t is in Fahrenheit or Celsius\n",
    "# the default value for F_or_C is \"C\"\n",
    "\n",
    "def temperature_converter(t, F_or_C='C'):\n",
    "    # initiate result variable to None \n",
    "    result=None\n",
    "    if F_or_C=='F':\n",
    "        result=(t-32)*5.0/9.0\n",
    "    else: \n",
    "        result=(t*9.0/5.0)+32\n",
    "    return result\n",
    "\n",
    "# call the function\n",
    "f_to_c=temperature_converter(90, 'F')\n",
    "print(\"1. \", f_to_c)\n",
    "\n",
    "# note 2nd parameter is omitted here\n",
    "c_to_f=temperature_converter(20)\n",
    "print(\"2. \", c_to_f)\n",
    "\n",
    "# call the function in a for loop\n",
    "c_to_f=[temperature_converter(c, 'C') for c in [0,25,30]]\n",
    "print(\"3. \", c_to_f)"
   ]
  },
  {
   "cell_type": "code",
   "execution_count": 12,
   "metadata": {},
   "outputs": [
    {
     "name": "stdout",
     "output_type": "stream",
     "text": [
      "remove 2:  [1, 3]\n"
     ]
    }
   ],
   "source": [
    "# Exercise: Define a function to\n",
    "# remove all occurrences of a value from a list \n",
    "# Requirements:\n",
    "# 1. two input parameters, a list and a value\n",
    "# 2. return a list that does not contain the value\n",
    "#    e.g. if inputs are [1,3,2,2] and 2, the return should be [1,3]\n",
    "\n",
    "def remove_all(aList, v):\n",
    "    return [x for x in aList if x!=v]\n",
    "    \n",
    "    \n",
    "# try this:\n",
    "L=[1,3,2,2]\n",
    "print(\"remove 2: \", remove_all(L,2))    "
   ]
  },
  {
   "cell_type": "code",
   "execution_count": 7,
   "metadata": {},
   "outputs": [
    {
     "name": "stdout",
     "output_type": "stream",
     "text": [
      "1. remove 2:  [1, 3]\n",
      "2. remove 2:  [1, 3]\n"
     ]
    }
   ],
   "source": [
    "# Is it possible to do in this way:\n",
    "\n",
    "def remove_all(aList, v):\n",
    "    for x in aList[:]:\n",
    "        if x == v:\n",
    "            aList.remove(x)\n",
    "    return aList\n",
    "# try this:\n",
    "L=[1,3,2,2]\n",
    "print(\"1. remove 2: \", remove_all(L,2))\n",
    "\n",
    "# how to fix it?\n",
    "# what about this?\n",
    "def remove_all(aList, v):\n",
    "    newlist=[]\n",
    "    for x in aList:\n",
    "        if x != v:\n",
    "            newlist.append(x)\n",
    "    return newlist\n",
    "L=[1,3,2,2]\n",
    "print(\"2. remove 2: \", remove_all(L,2))"
   ]
  },
  {
   "cell_type": "code",
   "execution_count": 6,
   "metadata": {},
   "outputs": [
    {
     "name": "stdout",
     "output_type": "stream",
     "text": [
      "[1, 3, 5, 7, 9]\n",
      "[]\n"
     ]
    }
   ],
   "source": [
    "# note the difference\n",
    "somelist = list(range(10))\n",
    "for x in somelist:\n",
    "    somelist.remove(x)\n",
    "print(somelist)\n",
    "\n",
    "somelist = list(range(10))\n",
    "for x in somelist[:]: ## Loop over a slice copy of the entire list.\n",
    "    somelist.remove(x)\n",
    "print(somelist)\n"
   ]
  },
  {
   "cell_type": "markdown",
   "metadata": {},
   "source": [
    "### Global vs. Local variables\n",
    "- Local variables:\n",
    "    - Variables defined inside a function body have a local scope\n",
    "    - Local variables are accessed only inside the function\n",
    "- Global variables:\n",
    "    - Variables defined outside of a function have a global scope\n",
    "    - Global variables are accessed (read) throughout the program body by all functions"
   ]
  },
  {
   "cell_type": "code",
   "execution_count": 8,
   "metadata": {},
   "outputs": [
    {
     "name": "stdout",
     "output_type": "stream",
     "text": [
      "1. Inside the function local total :  30\n",
      "2. Outside the function global total :  10\n"
     ]
    }
   ],
   "source": [
    "# local vs. global variables\n",
    "\n",
    "total=10  # global variable\n",
    "\n",
    "def sum( arg1, arg2 ):\n",
    "    # Here define a local variable also named with \"total\"\n",
    "    # Although with the same variable names, they are two different variables\n",
    "    total = arg1 + arg2 \n",
    "    print (\"1. Inside the function local total : \", total)\n",
    "    return total;\n",
    "\n",
    "# Now you can call sum function\n",
    "sum( 10, 20 );\n",
    "print (\"2. Outside the function global total : \", total) \n"
   ]
  },
  {
   "cell_type": "code",
   "execution_count": 30,
   "metadata": {},
   "outputs": [
    {
     "name": "stdout",
     "output_type": "stream",
     "text": [
      "1. sum with global_total:  40\n",
      "2. Inside the function local total :  30\n",
      "3. global_total outside the function  :  10\n"
     ]
    }
   ],
   "source": [
    "# You can read global variables inside a function\n",
    "\n",
    "global_total = 10  # global variable\n",
    "\n",
    "def sum( arg1, arg2 ):\n",
    "    total = arg1 + arg2 # Here total is local variable.\n",
    "    \n",
    "    # sum \"global_total\" with \"total\" and save it to a new \n",
    "    # variable \"grand_total\"\n",
    "    \n",
    "    grand_total = global_total + total\n",
    "    print(\"1. sum with global_total: \", grand_total)\n",
    "\n",
    "    print (\"2. Inside the function local total : \", total)\n",
    "    return total\n",
    "\n",
    "# Now you can call sum function\n",
    "sum( 10, 20 )\n",
    "print (\"3. global_total outside the function  : \", global_total) \n"
   ]
  },
  {
   "cell_type": "code",
   "execution_count": 32,
   "metadata": {},
   "outputs": [
    {
     "ename": "UnboundLocalError",
     "evalue": "local variable 'global_total' referenced before assignment",
     "output_type": "error",
     "traceback": [
      "\u001b[0;31m---------------------------------------------------------------------------\u001b[0m",
      "\u001b[0;31mUnboundLocalError\u001b[0m                         Traceback (most recent call last)",
      "\u001b[0;32m<ipython-input-32-a85f76712bfc>\u001b[0m in \u001b[0;36m<module>\u001b[0;34m\u001b[0m\n\u001b[1;32m     14\u001b[0m \u001b[0;34m\u001b[0m\u001b[0m\n\u001b[1;32m     15\u001b[0m \u001b[0;31m# Now you can call sum function\u001b[0m\u001b[0;34m\u001b[0m\u001b[0;34m\u001b[0m\u001b[0;34m\u001b[0m\u001b[0m\n\u001b[0;32m---> 16\u001b[0;31m \u001b[0msum\u001b[0m\u001b[0;34m(\u001b[0m \u001b[0;36m10\u001b[0m\u001b[0;34m,\u001b[0m \u001b[0;36m20\u001b[0m \u001b[0;34m)\u001b[0m\u001b[0;34m\u001b[0m\u001b[0;34m\u001b[0m\u001b[0m\n\u001b[0m\u001b[1;32m     17\u001b[0m \u001b[0mprint\u001b[0m \u001b[0;34m(\u001b[0m\u001b[0;34m\"3. Outside the function global total : \"\u001b[0m\u001b[0;34m,\u001b[0m \u001b[0mglobal_total\u001b[0m\u001b[0;34m)\u001b[0m\u001b[0;34m\u001b[0m\u001b[0;34m\u001b[0m\u001b[0m\n\u001b[1;32m     18\u001b[0m \u001b[0;34m\u001b[0m\u001b[0m\n",
      "\u001b[0;32m<ipython-input-32-a85f76712bfc>\u001b[0m in \u001b[0;36msum\u001b[0;34m(arg1, arg2)\u001b[0m\n\u001b[1;32m      7\u001b[0m \u001b[0;34m\u001b[0m\u001b[0m\n\u001b[1;32m      8\u001b[0m     \u001b[0;31m# modify \"global_total\" by adding \"total\" value to it\u001b[0m\u001b[0;34m\u001b[0m\u001b[0;34m\u001b[0m\u001b[0;34m\u001b[0m\u001b[0m\n\u001b[0;32m----> 9\u001b[0;31m     \u001b[0mglobal_total\u001b[0m \u001b[0;34m+=\u001b[0m \u001b[0mtotal\u001b[0m\u001b[0;34m\u001b[0m\u001b[0;34m\u001b[0m\u001b[0m\n\u001b[0m\u001b[1;32m     10\u001b[0m     \u001b[0mprint\u001b[0m\u001b[0;34m(\u001b[0m\u001b[0;34m\"1. Global_total: \"\u001b[0m\u001b[0;34m,\u001b[0m \u001b[0mglobal_total\u001b[0m\u001b[0;34m)\u001b[0m\u001b[0;34m\u001b[0m\u001b[0;34m\u001b[0m\u001b[0m\n\u001b[1;32m     11\u001b[0m \u001b[0;34m\u001b[0m\u001b[0m\n",
      "\u001b[0;31mUnboundLocalError\u001b[0m: local variable 'global_total' referenced before assignment"
     ]
    }
   ],
   "source": [
    "# Exercise 7.1.3.: Can you reassign \"global_total\" within a function? \n",
    "\n",
    "global_total = 10  # global variable\n",
    "\n",
    "def sum( arg1, arg2 ):\n",
    "    total = arg1 + arg2 # Here total is local variable.\n",
    "    \n",
    "    # modify \"global_total\" by adding \"total\" value to it\n",
    "    global_total += total\n",
    "    print(\"1. Global_total: \", global_total)\n",
    "    \n",
    "    print (\"2. Inside the function local total : \", total)\n",
    "    return total\n",
    "\n",
    "# Now you can call sum function\n",
    "sum( 10, 20 )\n",
    "print (\"3. Outside the function global total : \", global_total) \n",
    "\n",
    "# You got an error from the function. Why?\n",
    "# How to fix it?"
   ]
  },
  {
   "cell_type": "markdown",
   "metadata": {},
   "source": [
    "**Global Statement**\n",
    "   * How to define/modify a global variable within a function?, i.e.\n",
    "     * Make variables defined within a function accessible outside the function?\n",
    "     * Assign values to global variables within a function?\n",
    "   * Declare a global variable with \"global statement\" "
   ]
  },
  {
   "cell_type": "code",
   "execution_count": 15,
   "metadata": {},
   "outputs": [
    {
     "name": "stdout",
     "output_type": "stream",
     "text": [
      "global_total:  40\n",
      "Inside the function local total :  30\n",
      "Outside the function global total :  40\n"
     ]
    }
   ],
   "source": [
    "# Can you modify \"global_total\" within a function?\n",
    "# Yes. Use global statement to refer to a global variable\n",
    "\n",
    "global_total = 10  # global variable\n",
    "\n",
    "def sum( arg1, arg2 ):\n",
    "    total = arg1 + arg2 # Here total is local variable.\n",
    "    \n",
    "    # use global statement to indicate the scope of global_total\n",
    "    global global_total\n",
    "    \n",
    "    global_total+=total\n",
    "    print(\"global_total: \", global_total)\n",
    "    \n",
    "    print (\"Inside the function local total : \", total)\n",
    "    return total\n",
    "\n",
    "# Now you can call sum function\n",
    "sum( 10, 20 )\n",
    "print (\"Outside the function global total : \", global_total) "
   ]
  },
  {
   "cell_type": "code",
   "execution_count": 56,
   "metadata": {},
   "outputs": [
    {
     "name": "stdout",
     "output_type": "stream",
     "text": [
      "1. Global_total:  40\n",
      "2. Inside the function local total :  30\n",
      "3. Outside the function global total :  40\n"
     ]
    }
   ],
   "source": [
    "# Can you define \"global_total\" \n",
    "# as a global variable within a function?\n",
    "# Yes. Use global statement to indicate the scope\n",
    "\n",
    "def sum( arg1, arg2 ):\n",
    "    total = arg1 + arg2 # Here total is local variable.\n",
    "    \n",
    "    # use global statement to indicate the scope of global_total\n",
    "    global global_total\n",
    "    \n",
    "    # assign a value to the global variable \n",
    "    global_total = 10  \n",
    "    \n",
    "    # modify it\n",
    "    global_total+=total \n",
    "    print(\"1. Global_total: \", global_total)\n",
    "    \n",
    "    print (\"2. Inside the function local total : \", total)\n",
    "    return total\n",
    "\n",
    "# Now you can call sum function\n",
    "sum( 10, 20 )\n",
    "print (\"3. Outside the function global total : \", global_total) \n",
    "\n",
    "# What if you add \"global_total = 50\" before line 5 \n",
    "# or before line 21? What you'll get? Give a try and make sure you understand the result"
   ]
  },
  {
   "cell_type": "markdown",
   "metadata": {},
   "source": [
    "## Class\n",
    "- A class can be viewed as a type of complex objects that contains data and functions.\n",
    "\n",
    "- Basic components of a class\n",
    "\n",
    "    - Instantiation:\n",
    "\n",
    "    - 1.__new__(cls, ...) is called to create an instance. The first argument cls is the class of which an instance was requested. By default, _new_ returns the created instance object. You can also override _new_ to customize the instance creation.\n",
    "\n",
    "    - 2.Then additional arguments after \"cls\" are passed to __init__(self, ...) method to initialize the instance (e.g. add instance-specific attributes). The first argument refers to the instance object returned from _new_ method.\n",
    "\n",
    "- Variables (a.k.a attributes)\n",
    "\n",
    "- Functions (a.k.a methods)\n",
    "    - 1.\"self\" (or any name) must be the first argument to refer to the new instance in class functions in order to make them accessible to class objects\n",
    "    - 2.self refers to the class instance created from this class\n",
    "- These components can be accessed using \".\" (e.g. myShape.color)"
   ]
  },
  {
   "cell_type": "code",
   "execution_count": 16,
   "metadata": {},
   "outputs": [
    {
     "name": "stdout",
     "output_type": "stream",
     "text": [
      "12345\n",
      "hello world\n"
     ]
    }
   ],
   "source": [
    "class MyClass:\n",
    "    \"\"\"A simple example class\"\"\"\n",
    "    i = 12345     \n",
    "\n",
    "    def f(self):  \n",
    "        return 'hello world'\n",
    "\n",
    "#  Class instantiation uses function notation. \n",
    "#  Just pretend that the class object is a parameterless function that returns a new instance of the class.  \n",
    "x = MyClass()\n",
    "\n",
    "# or customize to a specific initial state\n",
    "def __init__(self):\n",
    "    self.data = []\n",
    "\n",
    "# Class attributes can also be assigned to\n",
    "# data attribute\n",
    "print(x.i)\n",
    "\n",
    "# method attribute\n",
    "print(x.f())\n",
    "# the instance object is passed as the first argument of the function"
   ]
  },
  {
   "cell_type": "code",
   "execution_count": 10,
   "metadata": {},
   "outputs": [
    {
     "name": "stdout",
     "output_type": "stream",
     "text": [
      "1. Color is set to: red\n",
      "2.  red\n",
      "3.  New color is blue\n",
      "4.  blue\n"
     ]
    }
   ],
   "source": [
    "# Define a class and use the class\n",
    "\n",
    "# define a class\n",
    "class Shape(object):\n",
    "    \n",
    "    # \"__new__\" method is omitted\n",
    "    \n",
    "    # initializer, \"self\" refers to the object itself\n",
    "    def __init__(self, color):  \n",
    "        # class variable is assigned with input value\n",
    "        self.color = color               \n",
    "        print('1. Color is set to:', self.color)\n",
    "        \n",
    "    # function (or method) of the class\n",
    "    # note the first argument referencing the class object, it must be there\n",
    "    # You don't have to use \"self\". You can use any variable name\n",
    "    def changeColor(self, newColor):   \n",
    "        self.color = newColor\n",
    "        return \"New color is \" + self.color\n",
    "    \n",
    "    # note \"self\" must be in every function of the class \n",
    "    \n",
    "# use the class\n",
    "# initiate a shape instance. \n",
    "# \"self\" in the class refers to \"myshape\"\n",
    "myshape=Shape('red') \n",
    "\n",
    "# call class attribute\n",
    "print(\"2. \", myshape.color)  \n",
    "\n",
    "# invoke class method \"changeColor\"\n",
    "print(\"3. \", myshape.changeColor('blue'))\n",
    "# check what color the instance has\n",
    "print(\"4. \", myshape.color)  "
   ]
  },
  {
   "cell_type": "code",
   "execution_count": 18,
   "metadata": {},
   "outputs": [
    {
     "name": "stdout",
     "output_type": "stream",
     "text": [
      "1. Color is set to:  red\n"
     ]
    },
    {
     "ename": "TypeError",
     "evalue": "changeColor() takes 1 positional argument but 2 were given",
     "output_type": "error",
     "traceback": [
      "\u001b[0;31m---------------------------------------------------------------------------\u001b[0m",
      "\u001b[0;31mTypeError\u001b[0m                                 Traceback (most recent call last)",
      "\u001b[0;32m<ipython-input-18-7628570deb1e>\u001b[0m in \u001b[0;36m<module>\u001b[0;34m\u001b[0m\n\u001b[1;32m     20\u001b[0m \u001b[0;34m\u001b[0m\u001b[0m\n\u001b[1;32m     21\u001b[0m \u001b[0mmyshape\u001b[0m\u001b[0;34m=\u001b[0m\u001b[0mShape\u001b[0m\u001b[0;34m(\u001b[0m\u001b[0;34m'red'\u001b[0m\u001b[0;34m)\u001b[0m\u001b[0;34m\u001b[0m\u001b[0;34m\u001b[0m\u001b[0m\n\u001b[0;32m---> 22\u001b[0;31m \u001b[0mprint\u001b[0m\u001b[0;34m(\u001b[0m\u001b[0;34m\"2. \"\u001b[0m\u001b[0;34m,\u001b[0m \u001b[0mmyshape\u001b[0m\u001b[0;34m.\u001b[0m\u001b[0mchangeColor\u001b[0m\u001b[0;34m(\u001b[0m\u001b[0;34m'blue'\u001b[0m\u001b[0;34m)\u001b[0m\u001b[0;34m)\u001b[0m\u001b[0;34m\u001b[0m\u001b[0;34m\u001b[0m\u001b[0m\n\u001b[0m\u001b[1;32m     23\u001b[0m \u001b[0;34m\u001b[0m\u001b[0m\n\u001b[1;32m     24\u001b[0m \u001b[0;31m# note that, you can name the first argument anything you like.\u001b[0m\u001b[0;34m\u001b[0m\u001b[0;34m\u001b[0m\u001b[0;34m\u001b[0m\u001b[0m\n",
      "\u001b[0;31mTypeError\u001b[0m: changeColor() takes 1 positional argument but 2 were given"
     ]
    }
   ],
   "source": [
    "# Common mistake: \n",
    "# forget the first argument (reference to the new instance) \n",
    "# What error you'll get?\n",
    "# Try to fix the errors\n",
    "\n",
    "class Shape(object):\n",
    "    \n",
    "    # constructor, \"self\" refers to the object itself\n",
    "    def __init__(self, color):  \n",
    "        # class variable is assigned with input value\n",
    "        self.color = color               \n",
    "        print('1. Color is set to: ', self.color)\n",
    "        \n",
    "    # function (or method) of the class\n",
    "    # note \"self\" is not an argument\n",
    "    # then this function is only an internal function not exposed\n",
    "    def changeColor(newColor):   \n",
    "        self.color=newColor\n",
    "        return \"New color is \"+self.color\n",
    "        \n",
    "myshape=Shape('red')   \n",
    "print(\"2. \", myshape.changeColor('blue'))  \n",
    "\n",
    "# note that, you can name the first argument anything you like. \n",
    "# It does not have to be \"self\""
   ]
  },
  {
   "cell_type": "markdown",
   "metadata": {},
   "source": [
    "### Class Inheritance\n",
    "- A class (i.e. child class) can inherit from another class (i.e. superclass):\n",
    "    - attributes\n",
    "    - methods\n",
    "- There exists a hierarchy relationship between classes. It's similar to relationships or categorizations that we know from real life.\n",
    "    - e.g. Vehicle (supperclass) vs. cars and buses (child class)"
   ]
  },
  {
   "cell_type": "code",
   "execution_count": 11,
   "metadata": {},
   "outputs": [
    {
     "name": "stdout",
     "output_type": "stream",
     "text": [
      "1. Color is set to: green\n",
      "1.  16\n",
      "2.  green\n",
      "3.  New color is blue\n"
     ]
    }
   ],
   "source": [
    "# Define a Square class based on Shape \n",
    "\n",
    "class Square(Shape): # Square inherits from \"Shape\"\n",
    "    \n",
    "    # constructor\n",
    "    def __init__(self, color, edge):\n",
    "        \n",
    "        # call superclass' constructor\n",
    "        Shape.__init__(self, color)\n",
    "        \n",
    "        # initialize another variable\n",
    "        self.edge = edge\n",
    "    \n",
    "    # define a new function getArea \n",
    "    def getArea(self):\n",
    "        return self.edge*self.edge\n",
    "    \n",
    "# use Square class\n",
    "my_square=Square('green', 4)\n",
    "\n",
    "# get square area\n",
    "print(\"1. \", my_square.getArea())\n",
    "\n",
    "# get square color\n",
    "print(\"2. \", my_square.color)\n",
    "\n",
    "# change square color\n",
    "print(\"3. \", my_square.changeColor(\"blue\"))"
   ]
  },
  {
   "cell_type": "code",
   "execution_count": 12,
   "metadata": {},
   "outputs": [
    {
     "name": "stdout",
     "output_type": "stream",
     "text": [
      "1. Color is set to: green\n",
      "green\n",
      "19.625\n"
     ]
    }
   ],
   "source": [
    "# Exercise 8.2.2: define a Circle class based on Shape \n",
    "# Requirements:\n",
    "# 1. Add a new parameter, diameter\n",
    "# 2. Define getArea function to calculate the area of a circle\n",
    "# 3. Initialize a circle instance with color green and \\\n",
    "     # diameter 5\n",
    "# 4. Print out the circle's area and diameter\n",
    "\n",
    "class Circle(Shape):\n",
    "\n",
    "     def __init__(self, color, diameter):\n",
    "          Shape.__init__(self, color)\n",
    "          self.diameter = diameter\n",
    "\n",
    "     def getArea(self):\n",
    "          return 3.14 * (self.diameter / 2) ** 2\n",
    "\n",
    "\n",
    "circle = Circle('green', 5)\n",
    "\n",
    "print(circle.color)\n",
    "print(circle.getArea())"
   ]
  },
  {
   "cell_type": "code",
   "execution_count": 79,
   "metadata": {},
   "outputs": [
    {
     "name": "stdout",
     "output_type": "stream",
     "text": [
      "welcome!\n",
      "78.53981633974483\n"
     ]
    }
   ],
   "source": [
    "#Typical Python File (.py) Structure\n",
    "\n",
    "# Import block\n",
    "import math\n",
    "\n",
    "# Functiones and classes\n",
    "def greet():\n",
    "    print(\"welcome!\")\n",
    "    \n",
    "class Shape(object):\n",
    "    \n",
    "    # constructor, \"self\" refers to the object itself\n",
    "    def __init__(self, color):  \n",
    "        # class variable is assigned with input value\n",
    "        self.color = color               \n",
    "        \n",
    "    # function (or method) of the class\n",
    "    def changeColor(self, newColor):   \n",
    "        self.color=newColor\n",
    "        return \"New color is \"+self.color \n",
    "\n",
    "class Circle(Shape):\n",
    "    \n",
    "    # constructor\n",
    "    def __init__(self, color, diameter):\n",
    "        # call superclass' constructor\n",
    "        Shape.__init__(self, color)\n",
    "        # initialize another variable\n",
    "        self.diameter = diameter\n",
    "    \n",
    "    # override getArea function from superclass\n",
    "    def getArea(self):\n",
    "        return 0.25*math.pi*(self.diameter**2)\n",
    "\n",
    "# best practice to test your classes and functions\n",
    "# if your script is exported as a module,\n",
    "# the following part is ignored\n",
    "# this is equivalent to main() in Java\n",
    "\n",
    "if __name__ == \"__main__\":  \n",
    "    \n",
    "    # Test function\n",
    "    greet()\n",
    "    \n",
    "    # test circle class\n",
    "    circle=Circle(\"red\", 10)\n",
    "    print(circle.getArea())"
   ]
  }
 ],
 "metadata": {
  "anaconda-cloud": {},
  "kernelspec": {
   "display_name": "webmining",
   "language": "python",
   "name": "python3"
  },
  "language_info": {
   "codemirror_mode": {
    "name": "ipython",
    "version": 3
   },
   "file_extension": ".py",
   "mimetype": "text/x-python",
   "name": "python",
   "nbconvert_exporter": "python",
   "pygments_lexer": "ipython3",
   "version": "3.10.9"
  },
  "vscode": {
   "interpreter": {
    "hash": "99b5616b0d23c29fa8c98fa09e8820275d6dd380a4ae57fe7d1c6e838b8c9c1f"
   }
  }
 },
 "nbformat": 4,
 "nbformat_minor": 1
}
